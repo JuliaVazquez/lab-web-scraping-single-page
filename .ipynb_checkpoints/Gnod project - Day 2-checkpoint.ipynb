{
 "cells": [
  {
   "cell_type": "markdown",
   "id": "ed9d5d82",
   "metadata": {},
   "source": [
    "37i9dQZF1DX5a39zUmS7Hn  -- 80 Rock\n",
    "37i9dQZF1DX3omIq8ziEt6  -- 150 Pop\n",
    "37i9dQZF1DXaXB8fQg7xif -- 150 electronica\n",
    "37i9dQZF1DX70TzPK5buVf -- 80 r&b\n",
    "37i9dQZF1DXbITWG1ZJKYt -- 200 jazz\n",
    "37i9dQZF1DXbSbnqxMTGx9 -- 250 reggae\n",
    "37i9dQZF1DX3LDIBRoaCDQ -- 100 punk\n",
    "37i9dQZF1DWUFmUp1ez7YB -- 90 salsa\n",
    "37i9dQZF1DWZBCPUIUs2iR -- 100 country\n",
    "37i9dQZF1DXcd2Vmhfon1w  -- 60 Rap españa\n",
    "37i9dQZF1DWVA1Gq4XHa6U  -- 50 hiphop intrernacional\n",
    "37i9dQZF1DXaxEKcoCdWHD  -- 50 exitos latino españa\n",
    "37i9dQZF1DWU4xtX4v6Z9l -- 50 80s españa\n",
    "37i9dQZF1DWXm9R2iowygp -- 50 90s españa\n",
    "37i9dQZF1DXb0AsvHMF4aM -- 50 00s españa\n",
    "37i9dQZF1DX7alvT6zKWrM -- 100 10s españa\n",
    "37i9dQZF1DX4UtSsGT1Sbe -- 150 80s\n",
    "37i9dQZF1DXbTxeAdrVG2l  -- 150 90s\n",
    "37i9dQZF1DX4o1oenSJRJd -- 150 00s\n",
    "37i9dQZF1DX5Ejj0EkURtP -- 150 10s\n",
    "37i9dQZF1DX08jcQJXDnEQ -- 150 90s metal\n",
    "37i9dQZF1DWXNFSTtym834 -- 100 00s metal\n",
    "37i9dQZF1DWXNFSTtym834 -- 150 10s metal\n",
    "37i9dQZF1DXe5W6diBL5N4 -- 398 kpop\n",
    "\n",
    "7iD6dfOqlwaD7UIDdsGCJH -- 1604 big list\n",
    "3bwpoSRTAdANJ0yR8IiVVn -- 363 big list\n",
    "1q4WsBW41XuOrN690BzKiJ -- 2191 big list\n",
    "6hbEvH2AmgMYo9Ggro3XRC  -- 796 biggest list\n",
    "7aQnfzkWQiEDHcbqRJJURt  -- 413 biggest hits\n",
    "\n",
    "https://open.spotify.com/playlist/4lTcPloX9vRUWcJ3RGZaUC\n",
    "https://open.spotify.com/playlist/5Q7JPVmkNBFbPF5QVJFLds\n"
   ]
  },
  {
   "cell_type": "markdown",
   "id": "a6a37361",
   "metadata": {},
   "source": [
    "song - artist - audio features  -> into dataframe"
   ]
  },
  {
   "cell_type": "code",
   "execution_count": 1,
   "id": "f9b784f0",
   "metadata": {},
   "outputs": [],
   "source": [
    "import pandas as pd\n",
    "import spotipy\n",
    "from spotipy.oauth2 import SpotifyClientCredentials\n",
    "from random import randint\n",
    "from time import sleep"
   ]
  },
  {
   "cell_type": "markdown",
   "id": "ccd5c2fc",
   "metadata": {},
   "source": [
    "### storing secrets"
   ]
  },
  {
   "cell_type": "code",
   "execution_count": 5,
   "id": "3cd59306",
   "metadata": {},
   "outputs": [],
   "source": [
    "secrets_file = open(\"secrets.txt\",\"r\")\n",
    "string = secrets_file.read()"
   ]
  },
  {
   "cell_type": "code",
   "execution_count": 3,
   "id": "94b22bb0",
   "metadata": {},
   "outputs": [],
   "source": [
    "secrets_dict={}\n",
    "for line in string.split('\\n'):\n",
    "    if len(line) > 0:\n",
    "        secrets_dict[line.split(':')[0]]=line.split(':')[1]"
   ]
  },
  {
   "cell_type": "code",
   "execution_count": 6,
   "id": "faee419c",
   "metadata": {},
   "outputs": [],
   "source": [
    "# secrets_dict"
   ]
  },
  {
   "cell_type": "markdown",
   "id": "0296381a",
   "metadata": {},
   "source": [
    "### authentication"
   ]
  },
  {
   "cell_type": "code",
   "execution_count": 7,
   "id": "30c72de8",
   "metadata": {},
   "outputs": [],
   "source": [
    "#Initialize SpotiPy with user credentials\n",
    "\n",
    "sp = spotipy.Spotify(auth_manager=SpotifyClientCredentials(client_id=secrets_dict['cid'],\n",
    "                                                           client_secret=secrets_dict['csecret']))"
   ]
  },
  {
   "cell_type": "markdown",
   "id": "ed8c05de",
   "metadata": {},
   "source": [
    "### downloading playlists"
   ]
  },
  {
   "cell_type": "code",
   "execution_count": 12,
   "id": "cbfdf4c8",
   "metadata": {},
   "outputs": [],
   "source": [
    "sp.user_playlist_tracks(\"spotify\", \"37i9dQZF1DX5a39zUmS7Hn\")"
   ]
  },
  {
   "cell_type": "code",
   "execution_count": 19,
   "id": "17d1a5a8",
   "metadata": {},
   "outputs": [],
   "source": [
    "def get_tracks(playlists):\n",
    "    for p_id in playlists:\n",
    "        if p_id == playlists[0]:\n",
    "            results = sp.user_playlist_tracks(\"spotify\",p_id)\n",
    "            tracks = results['items']\n",
    "        else:\n",
    "            results = sp.user_playlist_tracks(\"spotify\",p_id)\n",
    "            tracks = tracks + results['items']\n",
    "            while results['next']!=None:\n",
    "                results = sp.next(results)\n",
    "                tracks = tracks + results['items']   \n",
    "                sleep(randint(1,3000)/1000)   \n",
    "        sleep(randint(1,3000)/1000)\n",
    "    return tracks"
   ]
  },
  {
   "cell_type": "code",
   "execution_count": 17,
   "id": "28870e06",
   "metadata": {},
   "outputs": [],
   "source": [
    "playlists = ['37i9dQZF1DX5a39zUmS7Hn','37i9dQZF1DX3omIq8ziEt6','37i9dQZF1DXaXB8fQg7xif','37i9dQZF1DX70TzPK5buVf','37i9dQZF1DXbITWG1ZJKYt','37i9dQZF1DXbSbnqxMTGx9','37i9dQZF1DX3LDIBRoaCDQ','37i9dQZF1DWUFmUp1ez7YB','37i9dQZF1DWZBCPUIUs2iR','37i9dQZF1DXcd2Vmhfon1w','37i9dQZF1DWVA1Gq4XHa6U','37i9dQZF1DXaxEKcoCdWHD','37i9dQZF1DWU4xtX4v6Z9l','37i9dQZF1DWXm9R2iowygp','37i9dQZF1DXb0AsvHMF4aM','37i9dQZF1DX7alvT6zKWrM','37i9dQZF1DX4UtSsGT1Sbe','37i9dQZF1DXbTxeAdrVG2l','37i9dQZF1DX4o1oenSJRJd','37i9dQZF1DX5Ejj0EkURtP','37i9dQZF1DX08jcQJXDnEQ','37i9dQZF1DWXNFSTtym834','37i9dQZF1DWXNFSTtym834','37i9dQZF1DXe5W6diBL5N4','7iD6dfOqlwaD7UIDdsGCJH','3bwpoSRTAdANJ0yR8IiVVn','1q4WsBW41XuOrN690BzKiJ','6hbEvH2AmgMYo9Ggro3XRC','7aQnfzkWQiEDHcbqRJJURt']"
   ]
  },
  {
   "cell_type": "code",
   "execution_count": 20,
   "id": "49c20e68",
   "metadata": {},
   "outputs": [],
   "source": [
    "%%time\n",
    "tracks = get_tracks(playlists)"
   ]
  },
  {
   "cell_type": "code",
   "execution_count": 22,
   "id": "f857e443",
   "metadata": {},
   "outputs": [
    {
     "data": {
      "text/plain": [
       "8325"
      ]
     },
     "execution_count": 22,
     "metadata": {},
     "output_type": "execute_result"
    }
   ],
   "source": [
    "len(tracks)"
   ]
  },
  {
   "cell_type": "markdown",
   "id": "f2ef6767",
   "metadata": {},
   "source": [
    "### checking the values I want "
   ]
  },
  {
   "cell_type": "code",
   "execution_count": 24,
   "id": "5b8d75ce",
   "metadata": {},
   "outputs": [
    {
     "data": {
      "text/plain": [
       "dict_keys(['added_at', 'added_by', 'is_local', 'primary_color', 'track', 'video_thumbnail'])"
      ]
     },
     "execution_count": 24,
     "metadata": {},
     "output_type": "execute_result"
    }
   ],
   "source": [
    "tracks[0].keys()"
   ]
  },
  {
   "cell_type": "code",
   "execution_count": 71,
   "id": "3cf676cf",
   "metadata": {},
   "outputs": [
    {
     "data": {
      "text/plain": [
       "'Ghost'"
      ]
     },
     "execution_count": 71,
     "metadata": {},
     "output_type": "execute_result"
    }
   ],
   "source": [
    "tracks[0]['track']['artists'][0]['name']"
   ]
  },
  {
   "cell_type": "code",
   "execution_count": 72,
   "id": "fb9070be",
   "metadata": {},
   "outputs": [
    {
     "data": {
      "text/plain": [
       "'Mary On A Cross'"
      ]
     },
     "execution_count": 72,
     "metadata": {},
     "output_type": "execute_result"
    }
   ],
   "source": [
    "tracks[0]['track']['name']"
   ]
  },
  {
   "cell_type": "code",
   "execution_count": 73,
   "id": "d8e24ef2",
   "metadata": {},
   "outputs": [
    {
     "data": {
      "text/plain": [
       "'spotify:track:2HZLXBOnaSRhXStMLrq9fD'"
      ]
     },
     "execution_count": 73,
     "metadata": {},
     "output_type": "execute_result"
    }
   ],
   "source": [
    "tracks[0]['track']['uri']"
   ]
  },
  {
   "cell_type": "code",
   "execution_count": 57,
   "id": "b47f8cd1",
   "metadata": {},
   "outputs": [
    {
     "data": {
      "text/plain": [
       "{'added_at': '2021-12-14T10:37:07Z',\n",
       " 'added_by': {'external_urls': {'spotify': 'https://open.spotify.com/user/hyqhi1imx8841j3fu10btqt96'},\n",
       "  'href': 'https://api.spotify.com/v1/users/hyqhi1imx8841j3fu10btqt96',\n",
       "  'id': 'hyqhi1imx8841j3fu10btqt96',\n",
       "  'type': 'user',\n",
       "  'uri': 'spotify:user:hyqhi1imx8841j3fu10btqt96'},\n",
       " 'is_local': False,\n",
       " 'primary_color': None,\n",
       " 'track': None,\n",
       " 'video_thumbnail': {'url': None}}"
      ]
     },
     "execution_count": 57,
     "metadata": {},
     "output_type": "execute_result"
    }
   ],
   "source": [
    "tracks[4926]"
   ]
  },
  {
   "cell_type": "markdown",
   "id": "e1715298",
   "metadata": {},
   "source": [
    "### defining a function to get the data frame"
   ]
  },
  {
   "cell_type": "code",
   "execution_count": 60,
   "id": "2641e354",
   "metadata": {},
   "outputs": [],
   "source": [
    "def get_df(tracks):\n",
    "    \n",
    "    artists = []\n",
    "    songs = []\n",
    "    audio_features = []\n",
    "    \n",
    "    # first I take out the name of the artist, the song, and the dictionary that contents audio features\n",
    "    for i in range(len(tracks)-1):\n",
    "        \n",
    "        # I have to make sure the items has values \n",
    "        if tracks[i]['track'] != None:\n",
    "            artists.append(tracks[i]['track']['artists'][0]['name'])\n",
    "            songs.append(tracks[i]['track']['name'])\n",
    "            uri = tracks[i]['track']['uri']\n",
    "            audio = sp.audio_features(uri)[0]\n",
    "            audio_features.append(audio)\n",
    "    \n",
    "    # after saving the data into 3 lists, I use them to make a new data frame with 3 columns\n",
    "    total_songs = pd.DataFrame({'song_title':songs,'artist':artists,'audio_features':audio_features})\n",
    "    \n",
    "\n",
    "    # now I have to extrat the dictionary from the column audio_features and give the columns the names of the keys\n",
    "    flattened = pd.DataFrame(dict(total_songs['audio_features'])).transpose()\n",
    "    columns = [str(col) for col in flattened.columns]\n",
    "    flattened.columns = columns\n",
    "    data = pd.concat([total_songs, flattened], axis=1)\n",
    "    data = data.drop(['audio_features'], axis=1)\n",
    "    \n",
    "    return data"
   ]
  },
  {
   "cell_type": "code",
   "execution_count": 61,
   "id": "949f6fbb",
   "metadata": {},
   "outputs": [
    {
     "name": "stderr",
     "output_type": "stream",
     "text": [
      "Expected id of type track but found type Ana+Geht+No spotify:local:Die+Vamummtn::Ana+Geht+No:220\n",
      "Expected id of type track but found type Pudan+im+Club spotify:local:Die+Vamummtn::Pudan+im+Club:265\n",
      "Expected id of type track but found type Big+City+Life+%28LEEX+Remix%29 spotify:local:Mattafix::Big+City+Life+%28LEEX+Remix%29:375\n",
      "Expected id of type track but found type Choices spotify:local:Money+Boy::Choices:176\n",
      "Expected id of type track but found type Shisha spotify:local:Money+Boy::Shisha:115\n",
      "Expected id of type track but found type Techno+-+Popcorn+remix+%28best+v spotify:local:::Techno+-+Popcorn+remix+%28best+v:257\n"
     ]
    },
    {
     "name": "stdout",
     "output_type": "stream",
     "text": [
      "CPU times: total: 17.2 s\n",
      "Wall time: 13min 11s\n"
     ]
    }
   ],
   "source": [
    "%%time\n",
    "songs_df = get_df(tracks)"
   ]
  },
  {
   "cell_type": "code",
   "execution_count": 69,
   "id": "7097c0f8",
   "metadata": {},
   "outputs": [
    {
     "data": {
      "text/plain": [
       "(8323, 20)"
      ]
     },
     "execution_count": 69,
     "metadata": {},
     "output_type": "execute_result"
    }
   ],
   "source": [
    "songs_df.shape"
   ]
  },
  {
   "cell_type": "code",
   "execution_count": 65,
   "id": "0b60ec7d",
   "metadata": {},
   "outputs": [
    {
     "data": {
      "text/plain": [
       "0       False\n",
       "1       False\n",
       "2       False\n",
       "3       False\n",
       "4       False\n",
       "        ...  \n",
       "8318    False\n",
       "8319    False\n",
       "8320     True\n",
       "8321     True\n",
       "8322    False\n",
       "Length: 8323, dtype: bool"
      ]
     },
     "execution_count": 65,
     "metadata": {},
     "output_type": "execute_result"
    }
   ],
   "source": [
    "# checking for those duplicated songs\n",
    "\n",
    "songs_df.duplicated(keep='first')"
   ]
  },
  {
   "cell_type": "code",
   "execution_count": 70,
   "id": "70da8c2e",
   "metadata": {},
   "outputs": [
    {
     "data": {
      "text/plain": [
       "(7606, 20)"
      ]
     },
     "execution_count": 70,
     "metadata": {},
     "output_type": "execute_result"
    }
   ],
   "source": [
    "# final data frame\n",
    "\n",
    "songs_df2 = songs_df[songs_df.duplicated(keep='first') == False] \n",
    "songs_df2.shape"
   ]
  }
 ],
 "metadata": {
  "kernelspec": {
   "display_name": "Python 3 (ipykernel)",
   "language": "python",
   "name": "python3"
  },
  "language_info": {
   "codemirror_mode": {
    "name": "ipython",
    "version": 3
   },
   "file_extension": ".py",
   "mimetype": "text/x-python",
   "name": "python",
   "nbconvert_exporter": "python",
   "pygments_lexer": "ipython3",
   "version": "3.9.12"
  }
 },
 "nbformat": 4,
 "nbformat_minor": 5
}
