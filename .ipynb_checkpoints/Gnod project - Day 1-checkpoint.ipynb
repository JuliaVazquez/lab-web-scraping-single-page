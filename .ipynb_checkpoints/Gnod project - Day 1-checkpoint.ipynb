{
 "cells": [
  {
   "cell_type": "markdown",
   "id": "1f66dbdd",
   "metadata": {},
   "source": [
    "# Scraping one page"
   ]
  },
  {
   "cell_type": "code",
   "execution_count": 1,
   "id": "e08d64e8",
   "metadata": {},
   "outputs": [],
   "source": [
    "from bs4 import BeautifulSoup\n",
    "import requests\n",
    "import pandas as pd"
   ]
  },
  {
   "cell_type": "markdown",
   "id": "6d2c0fdb",
   "metadata": {},
   "source": [
    "### getting the soup from the web page"
   ]
  },
  {
   "cell_type": "code",
   "execution_count": 2,
   "id": "65eda4b6",
   "metadata": {},
   "outputs": [],
   "source": [
    "url = 'https://www.popvortex.com/music/charts/top-100-songs.php'"
   ]
  },
  {
   "cell_type": "code",
   "execution_count": 3,
   "id": "41910d5a",
   "metadata": {},
   "outputs": [
    {
     "data": {
      "text/plain": [
       "200"
      ]
     },
     "execution_count": 3,
     "metadata": {},
     "output_type": "execute_result"
    }
   ],
   "source": [
    "response = requests.get(url)\n",
    "response.status_code"
   ]
  },
  {
   "cell_type": "code",
   "execution_count": 4,
   "id": "9bb1deda",
   "metadata": {},
   "outputs": [],
   "source": [
    "soup = BeautifulSoup(response.content, \"html.parser\")\n",
    "# soup"
   ]
  },
  {
   "cell_type": "code",
   "execution_count": 5,
   "id": "bfe45d47",
   "metadata": {},
   "outputs": [],
   "source": [
    "#chart-position-1 > div.chart-content.col-xs-12.col-sm-8 > p"
   ]
  },
  {
   "cell_type": "markdown",
   "id": "e7a678fb",
   "metadata": {},
   "source": [
    "### looking for the information we want (title and artists)"
   ]
  },
  {
   "cell_type": "code",
   "execution_count": 6,
   "id": "10bb67f8",
   "metadata": {},
   "outputs": [
    {
     "data": {
      "text/plain": [
       "[<p class=\"title-artist\"><cite class=\"title\">Unholy</cite><em class=\"artist\">Sam Smith &amp; Kim Petras</em></p>]"
      ]
     },
     "execution_count": 6,
     "metadata": {},
     "output_type": "execute_result"
    }
   ],
   "source": [
    "soup.select('#chart-position-1 > div.chart-content.col-xs-12.col-sm-8 > p')"
   ]
  },
  {
   "cell_type": "code",
   "execution_count": 7,
   "id": "6a222b42",
   "metadata": {},
   "outputs": [
    {
     "data": {
      "text/plain": [
       "'Unholy'"
      ]
     },
     "execution_count": 7,
     "metadata": {},
     "output_type": "execute_result"
    }
   ],
   "source": [
    "soup.select('.title')[0].get_text()"
   ]
  },
  {
   "cell_type": "code",
   "execution_count": 8,
   "id": "981faf22",
   "metadata": {},
   "outputs": [
    {
     "data": {
      "text/plain": [
       "'Sam Smith & Kim Petras'"
      ]
     },
     "execution_count": 8,
     "metadata": {},
     "output_type": "execute_result"
    }
   ],
   "source": [
    "soup.select('.artist')[0].get_text()"
   ]
  },
  {
   "cell_type": "code",
   "execution_count": 9,
   "id": "405e511a",
   "metadata": {},
   "outputs": [
    {
     "data": {
      "text/plain": [
       "100"
      ]
     },
     "execution_count": 9,
     "metadata": {},
     "output_type": "execute_result"
    }
   ],
   "source": [
    "len(soup.select('.title'))"
   ]
  },
  {
   "cell_type": "markdown",
   "id": "25b22456",
   "metadata": {},
   "source": [
    "### making 2 lists: titles and artists "
   ]
  },
  {
   "cell_type": "code",
   "execution_count": 10,
   "id": "d0fd522d",
   "metadata": {},
   "outputs": [],
   "source": [
    "title = []\n",
    "artist = []\n",
    "\n",
    "\n",
    "num_iter = len(soup.select('.title'))\n",
    "\n",
    "t_list = soup.select('.title')\n",
    "a_list = soup.select('.artist')\n",
    "\n",
    "for i in range(num_iter):\n",
    "    title.append(t_list[i].get_text())\n",
    "    artist.append(a_list[i].get_text())"
   ]
  },
  {
   "cell_type": "markdown",
   "id": "381ea08a",
   "metadata": {},
   "source": [
    "### converting the lists into a data frame"
   ]
  },
  {
   "cell_type": "code",
   "execution_count": 11,
   "id": "f3aeb3f6",
   "metadata": {},
   "outputs": [],
   "source": [
    "top_songs = pd.DataFrame({'title':title,\n",
    "                         'artist':artist})"
   ]
  },
  {
   "cell_type": "code",
   "execution_count": 12,
   "id": "4d202922",
   "metadata": {},
   "outputs": [
    {
     "data": {
      "text/html": [
       "<div>\n",
       "<style scoped>\n",
       "    .dataframe tbody tr th:only-of-type {\n",
       "        vertical-align: middle;\n",
       "    }\n",
       "\n",
       "    .dataframe tbody tr th {\n",
       "        vertical-align: top;\n",
       "    }\n",
       "\n",
       "    .dataframe thead th {\n",
       "        text-align: right;\n",
       "    }\n",
       "</style>\n",
       "<table border=\"1\" class=\"dataframe\">\n",
       "  <thead>\n",
       "    <tr style=\"text-align: right;\">\n",
       "      <th></th>\n",
       "      <th>title</th>\n",
       "      <th>artist</th>\n",
       "    </tr>\n",
       "  </thead>\n",
       "  <tbody>\n",
       "    <tr>\n",
       "      <th>0</th>\n",
       "      <td>Unholy</td>\n",
       "      <td>Sam Smith &amp; Kim Petras</td>\n",
       "    </tr>\n",
       "    <tr>\n",
       "      <th>1</th>\n",
       "      <td>I'm Good (Blue)</td>\n",
       "      <td>David Guetta &amp; Bebe Rexha</td>\n",
       "    </tr>\n",
       "    <tr>\n",
       "      <th>2</th>\n",
       "      <td>Thank God</td>\n",
       "      <td>Kane Brown &amp; Katelyn Brown</td>\n",
       "    </tr>\n",
       "    <tr>\n",
       "      <th>3</th>\n",
       "      <td>wait in the truck</td>\n",
       "      <td>HARDY &amp; Lainey Wilson</td>\n",
       "    </tr>\n",
       "    <tr>\n",
       "      <th>4</th>\n",
       "      <td>Everywhere</td>\n",
       "      <td>Fleetwood Mac</td>\n",
       "    </tr>\n",
       "    <tr>\n",
       "      <th>...</th>\n",
       "      <td>...</td>\n",
       "      <td>...</td>\n",
       "    </tr>\n",
       "    <tr>\n",
       "      <th>95</th>\n",
       "      <td>Boulevard of Broken Dreams (feat. John Gallagh...</td>\n",
       "      <td>Green Day</td>\n",
       "    </tr>\n",
       "    <tr>\n",
       "      <th>96</th>\n",
       "      <td>Betty (Get Money)</td>\n",
       "      <td>Yung Gravy</td>\n",
       "    </tr>\n",
       "    <tr>\n",
       "      <th>97</th>\n",
       "      <td>Boom Clap</td>\n",
       "      <td>Charli XCX</td>\n",
       "    </tr>\n",
       "    <tr>\n",
       "      <th>98</th>\n",
       "      <td>One Way or Another (Hocus Pocus 2 Version)</td>\n",
       "      <td>Bette Midler, Sarah Jessica Parker &amp; Kathy Najimy</td>\n",
       "    </tr>\n",
       "    <tr>\n",
       "      <th>99</th>\n",
       "      <td>If</td>\n",
       "      <td>Bread</td>\n",
       "    </tr>\n",
       "  </tbody>\n",
       "</table>\n",
       "<p>100 rows × 2 columns</p>\n",
       "</div>"
      ],
      "text/plain": [
       "                                                title  \\\n",
       "0                                              Unholy   \n",
       "1                                     I'm Good (Blue)   \n",
       "2                                           Thank God   \n",
       "3                                   wait in the truck   \n",
       "4                                          Everywhere   \n",
       "..                                                ...   \n",
       "95  Boulevard of Broken Dreams (feat. John Gallagh...   \n",
       "96                                  Betty (Get Money)   \n",
       "97                                          Boom Clap   \n",
       "98         One Way or Another (Hocus Pocus 2 Version)   \n",
       "99                                                 If   \n",
       "\n",
       "                                               artist  \n",
       "0                              Sam Smith & Kim Petras  \n",
       "1                           David Guetta & Bebe Rexha  \n",
       "2                          Kane Brown & Katelyn Brown  \n",
       "3                               HARDY & Lainey Wilson  \n",
       "4                                       Fleetwood Mac  \n",
       "..                                                ...  \n",
       "95                                          Green Day  \n",
       "96                                         Yung Gravy  \n",
       "97                                         Charli XCX  \n",
       "98  Bette Midler, Sarah Jessica Parker & Kathy Najimy  \n",
       "99                                              Bread  \n",
       "\n",
       "[100 rows x 2 columns]"
      ]
     },
     "execution_count": 12,
     "metadata": {},
     "output_type": "execute_result"
    }
   ],
   "source": [
    "top_songs"
   ]
  },
  {
   "cell_type": "markdown",
   "id": "7eb5cb76",
   "metadata": {},
   "source": [
    "### finding a way to get a random song from the title column values and getting the input-output"
   ]
  },
  {
   "cell_type": "code",
   "execution_count": 13,
   "id": "7ed1e41b",
   "metadata": {},
   "outputs": [],
   "source": [
    "import random"
   ]
  },
  {
   "cell_type": "code",
   "execution_count": 14,
   "id": "95bd9811",
   "metadata": {},
   "outputs": [
    {
     "name": "stdout",
     "output_type": "stream",
     "text": [
      "What's your favourite song?  Unholy\n",
      "Maybe this song will also like you! :1,2,3 Eoi!\n"
     ]
    }
   ],
   "source": [
    "song = input(\"What's your favourite song?  \")\n",
    "\n",
    "if song in top_songs['title'].values:\n",
    "    print('Maybe this song will also like you! : ' + random.choice(title))\n",
    "else:\n",
    "    print(\"Sorry we don't have any suggestions\")"
   ]
  },
  {
   "cell_type": "markdown",
   "id": "e69af038",
   "metadata": {},
   "source": [
    "# Scraping multiple pages"
   ]
  },
  {
   "cell_type": "code",
   "execution_count": 15,
   "id": "d379f4ec",
   "metadata": {},
   "outputs": [],
   "source": [
    "url1 = 'https://playback.fm/charts/top-100-songs/1960'"
   ]
  },
  {
   "cell_type": "markdown",
   "id": "0e83d43b",
   "metadata": {},
   "source": [
    "### Respectful scraping:"
   ]
  },
  {
   "cell_type": "code",
   "execution_count": 16,
   "id": "d091ae2d",
   "metadata": {},
   "outputs": [],
   "source": [
    "from time import sleep\n",
    "from random import randint"
   ]
  },
  {
   "cell_type": "code",
   "execution_count": 17,
   "id": "24f2a3d7",
   "metadata": {},
   "outputs": [
    {
     "name": "stdout",
     "output_type": "stream",
     "text": [
      "Status code: 200\n",
      "I will sleep for 2.541 second/s.\n",
      "Status code: 200\n",
      "I will sleep for 2.421 second/s.\n",
      "Status code: 200\n",
      "I will sleep for 1.359 second/s.\n",
      "Status code: 200\n",
      "I will sleep for 3.943 second/s.\n",
      "Status code: 200\n",
      "I will sleep for 1.436 second/s.\n",
      "Status code: 200\n",
      "I will sleep for 1.89 second/s.\n",
      "Status code: 200\n",
      "I will sleep for 1.895 second/s.\n"
     ]
    }
   ],
   "source": [
    "iterations = range(1960,2021, 10)\n",
    "pages = []\n",
    "\n",
    "for i in iterations:\n",
    "    # assemble the url:\n",
    "    start_at= str(i)\n",
    "    url = \"https://playback.fm/charts/top-100-songs/\" + start_at\n",
    "    \n",
    "    # download html with a get request:\n",
    "#     response = requests.get(url)\n",
    "    response = requests.get(url, headers = {\"Accept-Language\": \"en-US\"})\n",
    "\n",
    "    # monitor the process by printing the status code\n",
    "    print(\"Status code: \" + str(response.status_code))\n",
    "\n",
    "    # store response into \"pages\" list\n",
    "    pages.append(response)\n",
    "\n",
    "    # respectful nap:\n",
    "    wait_time = randint(1,4000)\n",
    "    print(\"I will sleep for \" + str(wait_time/1000) + \" second/s.\")\n",
    "    sleep(wait_time/1000)"
   ]
  },
  {
   "cell_type": "markdown",
   "id": "011aea1c",
   "metadata": {},
   "source": [
    "### checking information from one page to get the titles and artists "
   ]
  },
  {
   "cell_type": "code",
   "execution_count": 18,
   "id": "b6845b8f",
   "metadata": {},
   "outputs": [],
   "source": [
    "# print(BeautifulSoup(pages[0].content, \"html.parser\").prettify())"
   ]
  },
  {
   "cell_type": "code",
   "execution_count": 19,
   "id": "fd04f89f",
   "metadata": {},
   "outputs": [],
   "source": [
    "soup1 = BeautifulSoup(pages[0].content, \"html.parser\")"
   ]
  },
  {
   "cell_type": "code",
   "execution_count": 20,
   "id": "48564834",
   "metadata": {},
   "outputs": [
    {
     "data": {
      "text/plain": [
       "'\\nAre You Lonesome Tonight?\\n'"
      ]
     },
     "execution_count": 20,
     "metadata": {},
     "output_type": "execute_result"
    }
   ],
   "source": [
    "# get the title\n",
    "soup1.select('span > a')[0].get_text()"
   ]
  },
  {
   "cell_type": "code",
   "execution_count": 21,
   "id": "ac8251e2",
   "metadata": {},
   "outputs": [
    {
     "data": {
      "text/plain": [
       "'\\nElvis Presley\\n'"
      ]
     },
     "execution_count": 21,
     "metadata": {},
     "output_type": "execute_result"
    }
   ],
   "source": [
    "# get the artist\n",
    "soup1.select('a.artist')[0].get_text()"
   ]
  },
  {
   "cell_type": "markdown",
   "id": "3096e279",
   "metadata": {},
   "source": [
    "### Getting the list of titles and the list of artists from each page"
   ]
  },
  {
   "cell_type": "code",
   "execution_count": 22,
   "id": "fc0b6ff9",
   "metadata": {},
   "outputs": [
    {
     "name": "stdout",
     "output_type": "stream",
     "text": [
      "700\n"
     ]
    }
   ],
   "source": [
    "titles = []\n",
    "\n",
    "\n",
    "for i in range(len(pages)):\n",
    "    parsed = BeautifulSoup(pages[i].content, \"html.parser\")\n",
    "#     print(parsed)\n",
    "    songs_html = parsed.select('td > span.song')\n",
    "#     print(songs_html)\n",
    "    for j in range(len(songs_html)):\n",
    "        title = songs_html[j].get_text()\n",
    "        titles.append(title)  \n",
    "\n",
    "\n",
    "print(len(titles)) \n"
   ]
  },
  {
   "cell_type": "code",
   "execution_count": 23,
   "id": "8339a876",
   "metadata": {},
   "outputs": [
    {
     "name": "stdout",
     "output_type": "stream",
     "text": [
      "700\n"
     ]
    }
   ],
   "source": [
    "artists = []\n",
    "\n",
    "\n",
    "for i in range(len(pages)):\n",
    "    parsed = BeautifulSoup(pages[i].content, \"html.parser\")\n",
    "#     print(parsed)\n",
    "    songs_html = parsed.select('td > a.artist')\n",
    "#     print(songs_html)\n",
    "    for j in range(len(songs_html)):\n",
    "#         print(songs_html[j])\n",
    "        artist = songs_html[j].get_text()\n",
    "        artists.append(artist)\n",
    "\n",
    "\n",
    "print(len(artists)) # output: 631?, no 200 (just took first 4 pages)\n"
   ]
  },
  {
   "cell_type": "markdown",
   "id": "77243650",
   "metadata": {},
   "source": [
    "### Converting the lists into data frames"
   ]
  },
  {
   "cell_type": "code",
   "execution_count": 24,
   "id": "c80f989c",
   "metadata": {},
   "outputs": [
    {
     "data": {
      "text/html": [
       "<div>\n",
       "<style scoped>\n",
       "    .dataframe tbody tr th:only-of-type {\n",
       "        vertical-align: middle;\n",
       "    }\n",
       "\n",
       "    .dataframe tbody tr th {\n",
       "        vertical-align: top;\n",
       "    }\n",
       "\n",
       "    .dataframe thead th {\n",
       "        text-align: right;\n",
       "    }\n",
       "</style>\n",
       "<table border=\"1\" class=\"dataframe\">\n",
       "  <thead>\n",
       "    <tr style=\"text-align: right;\">\n",
       "      <th></th>\n",
       "      <th>title</th>\n",
       "      <th>artist</th>\n",
       "    </tr>\n",
       "  </thead>\n",
       "  <tbody>\n",
       "    <tr>\n",
       "      <th>0</th>\n",
       "      <td>\\n\\nAre You Lonesome Tonight?\\n\\n</td>\n",
       "      <td>\\nElvis Presley\\n</td>\n",
       "    </tr>\n",
       "    <tr>\n",
       "      <th>1</th>\n",
       "      <td>\\n\\nIt's Now Or Never\\n\\n</td>\n",
       "      <td>\\nElvis Presley\\n</td>\n",
       "    </tr>\n",
       "    <tr>\n",
       "      <th>2</th>\n",
       "      <td>\\n\\nMarina\\n\\n</td>\n",
       "      <td>\\nRocco Granata\\n</td>\n",
       "    </tr>\n",
       "    <tr>\n",
       "      <th>3</th>\n",
       "      <td>\\n\\nThe Twist\\n\\n</td>\n",
       "      <td>\\nChubby Checker\\n</td>\n",
       "    </tr>\n",
       "    <tr>\n",
       "      <th>4</th>\n",
       "      <td>\\n\\nTheme From 'A Summer Place'\\n\\n</td>\n",
       "      <td>\\nPercy Faith\\n</td>\n",
       "    </tr>\n",
       "    <tr>\n",
       "      <th>...</th>\n",
       "      <td>...</td>\n",
       "      <td>...</td>\n",
       "    </tr>\n",
       "    <tr>\n",
       "      <th>695</th>\n",
       "      <td>\\n\\nKings &amp; Queens\\n\\n</td>\n",
       "      <td>\\nAva Max\\n</td>\n",
       "    </tr>\n",
       "    <tr>\n",
       "      <th>696</th>\n",
       "      <td>\\n\\nBang!\\n\\n</td>\n",
       "      <td>\\nAJR\\n</td>\n",
       "    </tr>\n",
       "    <tr>\n",
       "      <th>697</th>\n",
       "      <td>\\n\\nBandit\\n\\n</td>\n",
       "      <td>\\nJuice Wrld &amp; YoungBoy Never Broke Again\\n</td>\n",
       "    </tr>\n",
       "    <tr>\n",
       "      <th>698</th>\n",
       "      <td>\\n\\nPhysical\\n\\n</td>\n",
       "      <td>\\nDua Lipa\\n</td>\n",
       "    </tr>\n",
       "    <tr>\n",
       "      <th>699</th>\n",
       "      <td>\\n\\nDie From A Broken Heart\\n\\n</td>\n",
       "      <td>\\nMaddie &amp; Tae\\n</td>\n",
       "    </tr>\n",
       "  </tbody>\n",
       "</table>\n",
       "<p>700 rows × 2 columns</p>\n",
       "</div>"
      ],
      "text/plain": [
       "                                   title  \\\n",
       "0      \\n\\nAre You Lonesome Tonight?\\n\\n   \n",
       "1              \\n\\nIt's Now Or Never\\n\\n   \n",
       "2                         \\n\\nMarina\\n\\n   \n",
       "3                      \\n\\nThe Twist\\n\\n   \n",
       "4    \\n\\nTheme From 'A Summer Place'\\n\\n   \n",
       "..                                   ...   \n",
       "695               \\n\\nKings & Queens\\n\\n   \n",
       "696                        \\n\\nBang!\\n\\n   \n",
       "697                       \\n\\nBandit\\n\\n   \n",
       "698                     \\n\\nPhysical\\n\\n   \n",
       "699      \\n\\nDie From A Broken Heart\\n\\n   \n",
       "\n",
       "                                          artist  \n",
       "0                              \\nElvis Presley\\n  \n",
       "1                              \\nElvis Presley\\n  \n",
       "2                              \\nRocco Granata\\n  \n",
       "3                             \\nChubby Checker\\n  \n",
       "4                                \\nPercy Faith\\n  \n",
       "..                                           ...  \n",
       "695                                  \\nAva Max\\n  \n",
       "696                                      \\nAJR\\n  \n",
       "697  \\nJuice Wrld & YoungBoy Never Broke Again\\n  \n",
       "698                                 \\nDua Lipa\\n  \n",
       "699                             \\nMaddie & Tae\\n  \n",
       "\n",
       "[700 rows x 2 columns]"
      ]
     },
     "execution_count": 24,
     "metadata": {},
     "output_type": "execute_result"
    }
   ],
   "source": [
    "decades_songs = pd.DataFrame({'title':titles,\n",
    "                             'artist':artists})\n",
    "\n",
    "decades_songs"
   ]
  },
  {
   "cell_type": "markdown",
   "id": "aa8f9baa",
   "metadata": {},
   "source": [
    "### Cleaning the \\n"
   ]
  },
  {
   "cell_type": "code",
   "execution_count": 25,
   "id": "b4bcd823",
   "metadata": {},
   "outputs": [],
   "source": [
    "for col in decades_songs.columns:\n",
    "     decades_songs[col] = decades_songs[col].str.replace('\\n','')"
   ]
  },
  {
   "cell_type": "code",
   "execution_count": 26,
   "id": "6ad82df1",
   "metadata": {},
   "outputs": [
    {
     "data": {
      "text/html": [
       "<div>\n",
       "<style scoped>\n",
       "    .dataframe tbody tr th:only-of-type {\n",
       "        vertical-align: middle;\n",
       "    }\n",
       "\n",
       "    .dataframe tbody tr th {\n",
       "        vertical-align: top;\n",
       "    }\n",
       "\n",
       "    .dataframe thead th {\n",
       "        text-align: right;\n",
       "    }\n",
       "</style>\n",
       "<table border=\"1\" class=\"dataframe\">\n",
       "  <thead>\n",
       "    <tr style=\"text-align: right;\">\n",
       "      <th></th>\n",
       "      <th>title</th>\n",
       "      <th>artist</th>\n",
       "    </tr>\n",
       "  </thead>\n",
       "  <tbody>\n",
       "    <tr>\n",
       "      <th>0</th>\n",
       "      <td>Are You Lonesome Tonight?</td>\n",
       "      <td>Elvis Presley</td>\n",
       "    </tr>\n",
       "    <tr>\n",
       "      <th>1</th>\n",
       "      <td>It's Now Or Never</td>\n",
       "      <td>Elvis Presley</td>\n",
       "    </tr>\n",
       "    <tr>\n",
       "      <th>2</th>\n",
       "      <td>Marina</td>\n",
       "      <td>Rocco Granata</td>\n",
       "    </tr>\n",
       "    <tr>\n",
       "      <th>3</th>\n",
       "      <td>The Twist</td>\n",
       "      <td>Chubby Checker</td>\n",
       "    </tr>\n",
       "    <tr>\n",
       "      <th>4</th>\n",
       "      <td>Theme From 'A Summer Place'</td>\n",
       "      <td>Percy Faith</td>\n",
       "    </tr>\n",
       "    <tr>\n",
       "      <th>...</th>\n",
       "      <td>...</td>\n",
       "      <td>...</td>\n",
       "    </tr>\n",
       "    <tr>\n",
       "      <th>695</th>\n",
       "      <td>Kings &amp; Queens</td>\n",
       "      <td>Ava Max</td>\n",
       "    </tr>\n",
       "    <tr>\n",
       "      <th>696</th>\n",
       "      <td>Bang!</td>\n",
       "      <td>AJR</td>\n",
       "    </tr>\n",
       "    <tr>\n",
       "      <th>697</th>\n",
       "      <td>Bandit</td>\n",
       "      <td>Juice Wrld &amp; YoungBoy Never Broke Again</td>\n",
       "    </tr>\n",
       "    <tr>\n",
       "      <th>698</th>\n",
       "      <td>Physical</td>\n",
       "      <td>Dua Lipa</td>\n",
       "    </tr>\n",
       "    <tr>\n",
       "      <th>699</th>\n",
       "      <td>Die From A Broken Heart</td>\n",
       "      <td>Maddie &amp; Tae</td>\n",
       "    </tr>\n",
       "  </tbody>\n",
       "</table>\n",
       "<p>700 rows × 2 columns</p>\n",
       "</div>"
      ],
      "text/plain": [
       "                           title                                   artist\n",
       "0      Are You Lonesome Tonight?                            Elvis Presley\n",
       "1              It's Now Or Never                            Elvis Presley\n",
       "2                         Marina                            Rocco Granata\n",
       "3                      The Twist                           Chubby Checker\n",
       "4    Theme From 'A Summer Place'                              Percy Faith\n",
       "..                           ...                                      ...\n",
       "695               Kings & Queens                                  Ava Max\n",
       "696                        Bang!                                      AJR\n",
       "697                       Bandit  Juice Wrld & YoungBoy Never Broke Again\n",
       "698                     Physical                                 Dua Lipa\n",
       "699      Die From A Broken Heart                             Maddie & Tae\n",
       "\n",
       "[700 rows x 2 columns]"
      ]
     },
     "execution_count": 26,
     "metadata": {},
     "output_type": "execute_result"
    }
   ],
   "source": [
    "decades_songs"
   ]
  },
  {
   "cell_type": "markdown",
   "id": "ef133689",
   "metadata": {},
   "source": [
    "# Getting another 100 songs to add to the top_songs data frame"
   ]
  },
  {
   "cell_type": "code",
   "execution_count": 27,
   "id": "78c15e47",
   "metadata": {},
   "outputs": [],
   "source": [
    "url = 'https://www.lahiguera.net/musicalia/lista/lista_espanola_canciones/'"
   ]
  },
  {
   "cell_type": "code",
   "execution_count": 28,
   "id": "d898a9a8",
   "metadata": {},
   "outputs": [
    {
     "data": {
      "text/plain": [
       "200"
      ]
     },
     "execution_count": 28,
     "metadata": {},
     "output_type": "execute_result"
    }
   ],
   "source": [
    "response = requests.get(url)\n",
    "response.status_code"
   ]
  },
  {
   "cell_type": "code",
   "execution_count": 34,
   "id": "0ae71992",
   "metadata": {},
   "outputs": [
    {
     "data": {
      "text/plain": [
       "[<b>Quevedo || BZRP Music Sessions #52</b>]"
      ]
     },
     "execution_count": 34,
     "metadata": {},
     "output_type": "execute_result"
    }
   ],
   "source": [
    "soup3 = BeautifulSoup(response.content, \"html.parser\")\n",
    "soup3.select('#principal > div.listado > article:nth-child(2) > b:nth-child(4)')"
   ]
  },
  {
   "cell_type": "code",
   "execution_count": 69,
   "id": "a293f974",
   "metadata": {},
   "outputs": [
    {
     "data": {
      "text/plain": [
       "'19\\xa0\\xa017\\xa0\\xa018Mariposas(Aitana)Aitana, Sangiovanni '"
      ]
     },
     "execution_count": 69,
     "metadata": {},
     "output_type": "execute_result"
    }
   ],
   "source": [
    "soup3.select('#principal > div.listado > article:nth-child(20)')[0].get_text()\n"
   ]
  },
  {
   "cell_type": "markdown",
   "id": "336f9a2e",
   "metadata": {},
   "source": [
    "# Getting another 40 songs to add to the top_songs data frame"
   ]
  },
  {
   "cell_type": "code",
   "execution_count": 70,
   "id": "8fdfe6be",
   "metadata": {},
   "outputs": [],
   "source": [
    "url = 'https://los40.com/lista40/'"
   ]
  },
  {
   "cell_type": "code",
   "execution_count": 71,
   "id": "4e9251cb",
   "metadata": {},
   "outputs": [
    {
     "data": {
      "text/plain": [
       "200"
      ]
     },
     "execution_count": 71,
     "metadata": {},
     "output_type": "execute_result"
    }
   ],
   "source": [
    "response = requests.get(url)\n",
    "response.status_code"
   ]
  },
  {
   "cell_type": "code",
   "execution_count": 77,
   "id": "dc1585d6",
   "metadata": {},
   "outputs": [
    {
     "data": {
      "text/plain": [
       "'Carretera y manta'"
      ]
     },
     "execution_count": 77,
     "metadata": {},
     "output_type": "execute_result"
    }
   ],
   "source": [
    "soup4 = BeautifulSoup(response.content, \"html.parser\")\n",
    "soup4.select('#portada > main > div.contenedor_principal.estirar > div.contenido_principal.estirar > div.columnas_principal_y_secundaria > div > div.lista40.principal > div:nth-child(4) > div.data-video > div.info_grupo > p')[0].get_text()"
   ]
  },
  {
   "cell_type": "code",
   "execution_count": 76,
   "id": "ebadde7d",
   "metadata": {},
   "outputs": [
    {
     "data": {
      "text/plain": [
       "'Ana Mena;Belinda'"
      ]
     },
     "execution_count": 76,
     "metadata": {},
     "output_type": "execute_result"
    }
   ],
   "source": [
    "soup4.select('#portada > main > div.contenedor_principal.estirar > div.contenido_principal.estirar > div.columnas_principal_y_secundaria > div > div.lista40.principal > div:nth-child(4) > div.data-video > div.info_grupo > h4 > a')[0].get_text()"
   ]
  },
  {
   "cell_type": "code",
   "execution_count": 84,
   "id": "97e23e6b",
   "metadata": {},
   "outputs": [
    {
     "data": {
      "text/plain": [
       "40"
      ]
     },
     "execution_count": 84,
     "metadata": {},
     "output_type": "execute_result"
    }
   ],
   "source": [
    "len(soup4.select('#portada > main > div.contenedor_principal.estirar > div.contenido_principal.estirar > div.columnas_principal_y_secundaria > div > div.lista40.principal > div.article'))"
   ]
  },
  {
   "cell_type": "code",
   "execution_count": 85,
   "id": "8a5fafe1",
   "metadata": {},
   "outputs": [],
   "source": [
    "my_soup = soup4.select('#portada > main > div.contenedor_principal.estirar > div.contenido_principal.estirar > div.columnas_principal_y_secundaria > div > div.lista40.principal > div.article')"
   ]
  },
  {
   "cell_type": "code",
   "execution_count": 105,
   "id": "12c3690e",
   "metadata": {},
   "outputs": [
    {
     "data": {
      "text/plain": [
       "'Las 12'"
      ]
     },
     "execution_count": 105,
     "metadata": {},
     "output_type": "execute_result"
    }
   ],
   "source": [
    "my_soup[0].select('p')[0].get_text()"
   ]
  },
  {
   "cell_type": "code",
   "execution_count": 107,
   "id": "529a9739",
   "metadata": {},
   "outputs": [
    {
     "data": {
      "text/plain": [
       "'Ana Mena;Belinda'"
      ]
     },
     "execution_count": 107,
     "metadata": {},
     "output_type": "execute_result"
    }
   ],
   "source": [
    "my_soup[0].select('h4 > a')[0].get_text()"
   ]
  },
  {
   "cell_type": "code",
   "execution_count": 114,
   "id": "d455e0c7",
   "metadata": {},
   "outputs": [
    {
     "data": {
      "text/plain": [
       "'Latidos'"
      ]
     },
     "execution_count": 114,
     "metadata": {},
     "output_type": "execute_result"
    }
   ],
   "source": [
    "my_soup[19].select('p')[0].get_text()"
   ]
  },
  {
   "cell_type": "code",
   "execution_count": 116,
   "id": "1d3f398b",
   "metadata": {},
   "outputs": [
    {
     "data": {
      "text/plain": [
       "'Rosalía'"
      ]
     },
     "execution_count": 116,
     "metadata": {},
     "output_type": "execute_result"
    }
   ],
   "source": [
    "my_soup[1].select('h4')[0].get_text()"
   ]
  },
  {
   "cell_type": "code",
   "execution_count": 119,
   "id": "91c126e9",
   "metadata": {},
   "outputs": [],
   "source": [
    "song = []\n",
    "artist = []\n",
    "\n",
    "\n",
    "for i in range(len(my_soup)):\n",
    "#     print(i)\n",
    "    song.append(my_soup[i].select('p')[0].get_text())\n",
    "    artist.append(my_soup[i].select('h4')[0].get_text())"
   ]
  },
  {
   "cell_type": "code",
   "execution_count": 120,
   "id": "6b0ed280",
   "metadata": {},
   "outputs": [
    {
     "data": {
      "text/html": [
       "<div>\n",
       "<style scoped>\n",
       "    .dataframe tbody tr th:only-of-type {\n",
       "        vertical-align: middle;\n",
       "    }\n",
       "\n",
       "    .dataframe tbody tr th {\n",
       "        vertical-align: top;\n",
       "    }\n",
       "\n",
       "    .dataframe thead th {\n",
       "        text-align: right;\n",
       "    }\n",
       "</style>\n",
       "<table border=\"1\" class=\"dataframe\">\n",
       "  <thead>\n",
       "    <tr style=\"text-align: right;\">\n",
       "      <th></th>\n",
       "      <th>title</th>\n",
       "      <th>artist</th>\n",
       "    </tr>\n",
       "  </thead>\n",
       "  <tbody>\n",
       "    <tr>\n",
       "      <th>0</th>\n",
       "      <td>Las 12</td>\n",
       "      <td>Ana Mena;Belinda</td>\n",
       "    </tr>\n",
       "    <tr>\n",
       "      <th>1</th>\n",
       "      <td>Despechá</td>\n",
       "      <td>Rosalía</td>\n",
       "    </tr>\n",
       "    <tr>\n",
       "      <th>2</th>\n",
       "      <td>Quevedo: Bzrp music sessions Vol. 52</td>\n",
       "      <td>Bizarrap;Quevedo</td>\n",
       "    </tr>\n",
       "    <tr>\n",
       "      <th>3</th>\n",
       "      <td>Mariposas</td>\n",
       "      <td>Aitana;Sangiovanni</td>\n",
       "    </tr>\n",
       "    <tr>\n",
       "      <th>4</th>\n",
       "      <td>I ain't worried</td>\n",
       "      <td>OneRepublic</td>\n",
       "    </tr>\n",
       "    <tr>\n",
       "      <th>5</th>\n",
       "      <td>Don't you worry</td>\n",
       "      <td>The Black Eyed Peas;David Guetta;Shakira</td>\n",
       "    </tr>\n",
       "    <tr>\n",
       "      <th>6</th>\n",
       "      <td>Hold me closer</td>\n",
       "      <td>Britney Spears;Elton John</td>\n",
       "    </tr>\n",
       "    <tr>\n",
       "      <th>7</th>\n",
       "      <td>Envolver</td>\n",
       "      <td>Anitta</td>\n",
       "    </tr>\n",
       "    <tr>\n",
       "      <th>8</th>\n",
       "      <td>As it was</td>\n",
       "      <td>Harry Styles</td>\n",
       "    </tr>\n",
       "    <tr>\n",
       "      <th>9</th>\n",
       "      <td>Carretera y manta</td>\n",
       "      <td>Pablo Alborán</td>\n",
       "    </tr>\n",
       "    <tr>\n",
       "      <th>10</th>\n",
       "      <td>Dile a los demás</td>\n",
       "      <td>Dani Fernández</td>\n",
       "    </tr>\n",
       "    <tr>\n",
       "      <th>11</th>\n",
       "      <td>Quieres</td>\n",
       "      <td>Aitana;Emilia;PtaZeta</td>\n",
       "    </tr>\n",
       "    <tr>\n",
       "      <th>12</th>\n",
       "      <td>Hay que vivir el momento</td>\n",
       "      <td>Manuel Carrasco</td>\n",
       "    </tr>\n",
       "    <tr>\n",
       "      <th>13</th>\n",
       "      <td>I'm good (Blue)</td>\n",
       "      <td>Bebe Rexha;David Guetta</td>\n",
       "    </tr>\n",
       "    <tr>\n",
       "      <th>14</th>\n",
       "      <td>Te felicito</td>\n",
       "      <td>Rauw Alejandro;Shakira</td>\n",
       "    </tr>\n",
       "    <tr>\n",
       "      <th>15</th>\n",
       "      <td>Maybe you're the problem</td>\n",
       "      <td>Ava Max</td>\n",
       "    </tr>\n",
       "    <tr>\n",
       "      <th>16</th>\n",
       "      <td>Volverá (2021)</td>\n",
       "      <td>Dani Martín</td>\n",
       "    </tr>\n",
       "    <tr>\n",
       "      <th>17</th>\n",
       "      <td>Late night talking</td>\n",
       "      <td>Harry Styles</td>\n",
       "    </tr>\n",
       "    <tr>\n",
       "      <th>18</th>\n",
       "      <td>Quiero decirte</td>\n",
       "      <td>Abraham Mateo;Ana Mena</td>\n",
       "    </tr>\n",
       "    <tr>\n",
       "      <th>19</th>\n",
       "      <td>Latidos</td>\n",
       "      <td>Polo Nandez;Zeper</td>\n",
       "    </tr>\n",
       "    <tr>\n",
       "      <th>20</th>\n",
       "      <td>Provenza</td>\n",
       "      <td>Karol G</td>\n",
       "    </tr>\n",
       "    <tr>\n",
       "      <th>21</th>\n",
       "      <td>About damn time</td>\n",
       "      <td>Lizzo</td>\n",
       "    </tr>\n",
       "    <tr>\n",
       "      <th>22</th>\n",
       "      <td>Amapolas</td>\n",
       "      <td>Leo Rizzi</td>\n",
       "    </tr>\n",
       "    <tr>\n",
       "      <th>23</th>\n",
       "      <td>TV</td>\n",
       "      <td>Sebastián Yatra</td>\n",
       "    </tr>\n",
       "    <tr>\n",
       "      <th>24</th>\n",
       "      <td>Junio</td>\n",
       "      <td>Maluma</td>\n",
       "    </tr>\n",
       "    <tr>\n",
       "      <th>25</th>\n",
       "      <td>Infinity</td>\n",
       "      <td>Jaymes Young</td>\n",
       "    </tr>\n",
       "    <tr>\n",
       "      <th>26</th>\n",
       "      <td>Quién diría</td>\n",
       "      <td>DePol</td>\n",
       "    </tr>\n",
       "    <tr>\n",
       "      <th>27</th>\n",
       "      <td>Solo x ti</td>\n",
       "      <td>Pol Granch</td>\n",
       "    </tr>\n",
       "    <tr>\n",
       "      <th>28</th>\n",
       "      <td>El bueno acaba mal</td>\n",
       "      <td>Blas Cantó</td>\n",
       "    </tr>\n",
       "    <tr>\n",
       "      <th>29</th>\n",
       "      <td>Bonita</td>\n",
       "      <td>Samuraï</td>\n",
       "    </tr>\n",
       "    <tr>\n",
       "      <th>30</th>\n",
       "      <td>Bam bam</td>\n",
       "      <td>Camila Cabello;Ed Sheeran</td>\n",
       "    </tr>\n",
       "    <tr>\n",
       "      <th>31</th>\n",
       "      <td>París</td>\n",
       "      <td>Morat;Duki</td>\n",
       "    </tr>\n",
       "    <tr>\n",
       "      <th>32</th>\n",
       "      <td>Agua salada</td>\n",
       "      <td>Marc Seguí</td>\n",
       "    </tr>\n",
       "    <tr>\n",
       "      <th>33</th>\n",
       "      <td>Colorín colorado</td>\n",
       "      <td>Justin Quiles</td>\n",
       "    </tr>\n",
       "    <tr>\n",
       "      <th>34</th>\n",
       "      <td>El día menos pensado</td>\n",
       "      <td>Beret</td>\n",
       "    </tr>\n",
       "    <tr>\n",
       "      <th>35</th>\n",
       "      <td>Pegao</td>\n",
       "      <td>Camilo</td>\n",
       "    </tr>\n",
       "    <tr>\n",
       "      <th>36</th>\n",
       "      <td>SloMo</td>\n",
       "      <td>Chanel</td>\n",
       "    </tr>\n",
       "    <tr>\n",
       "      <th>37</th>\n",
       "      <td>Levantaremos al sol</td>\n",
       "      <td>Álvaro de Luna</td>\n",
       "    </tr>\n",
       "    <tr>\n",
       "      <th>38</th>\n",
       "      <td>Los niños del parque</td>\n",
       "      <td>Walls</td>\n",
       "    </tr>\n",
       "    <tr>\n",
       "      <th>39</th>\n",
       "      <td>Camaleón</td>\n",
       "      <td>Belén Aguilera</td>\n",
       "    </tr>\n",
       "  </tbody>\n",
       "</table>\n",
       "</div>"
      ],
      "text/plain": [
       "                                   title  \\\n",
       "0                                 Las 12   \n",
       "1                               Despechá   \n",
       "2   Quevedo: Bzrp music sessions Vol. 52   \n",
       "3                              Mariposas   \n",
       "4                        I ain't worried   \n",
       "5                        Don't you worry   \n",
       "6                         Hold me closer   \n",
       "7                               Envolver   \n",
       "8                              As it was   \n",
       "9                      Carretera y manta   \n",
       "10                      Dile a los demás   \n",
       "11                               Quieres   \n",
       "12              Hay que vivir el momento   \n",
       "13                       I'm good (Blue)   \n",
       "14                           Te felicito   \n",
       "15              Maybe you're the problem   \n",
       "16                        Volverá (2021)   \n",
       "17                    Late night talking   \n",
       "18                        Quiero decirte   \n",
       "19                               Latidos   \n",
       "20                              Provenza   \n",
       "21                       About damn time   \n",
       "22                              Amapolas   \n",
       "23                                    TV   \n",
       "24                                 Junio   \n",
       "25                              Infinity   \n",
       "26                           Quién diría   \n",
       "27                             Solo x ti   \n",
       "28                    El bueno acaba mal   \n",
       "29                                Bonita   \n",
       "30                               Bam bam   \n",
       "31                                 París   \n",
       "32                           Agua salada   \n",
       "33                      Colorín colorado   \n",
       "34                  El día menos pensado   \n",
       "35                                 Pegao   \n",
       "36                                 SloMo   \n",
       "37                   Levantaremos al sol   \n",
       "38                  Los niños del parque   \n",
       "39                              Camaleón   \n",
       "\n",
       "                                      artist  \n",
       "0                           Ana Mena;Belinda  \n",
       "1                                    Rosalía  \n",
       "2                           Bizarrap;Quevedo  \n",
       "3                         Aitana;Sangiovanni  \n",
       "4                                OneRepublic  \n",
       "5   The Black Eyed Peas;David Guetta;Shakira  \n",
       "6                  Britney Spears;Elton John  \n",
       "7                                     Anitta  \n",
       "8                               Harry Styles  \n",
       "9                              Pablo Alborán  \n",
       "10                            Dani Fernández  \n",
       "11                     Aitana;Emilia;PtaZeta  \n",
       "12                           Manuel Carrasco  \n",
       "13                   Bebe Rexha;David Guetta  \n",
       "14                    Rauw Alejandro;Shakira  \n",
       "15                                   Ava Max  \n",
       "16                               Dani Martín  \n",
       "17                              Harry Styles  \n",
       "18                    Abraham Mateo;Ana Mena  \n",
       "19                         Polo Nandez;Zeper  \n",
       "20                                   Karol G  \n",
       "21                                     Lizzo  \n",
       "22                                 Leo Rizzi  \n",
       "23                           Sebastián Yatra  \n",
       "24                                    Maluma  \n",
       "25                              Jaymes Young  \n",
       "26                                     DePol  \n",
       "27                                Pol Granch  \n",
       "28                                Blas Cantó  \n",
       "29                                   Samuraï  \n",
       "30                 Camila Cabello;Ed Sheeran  \n",
       "31                                Morat;Duki  \n",
       "32                                Marc Seguí  \n",
       "33                             Justin Quiles  \n",
       "34                                     Beret  \n",
       "35                                    Camilo  \n",
       "36                                    Chanel  \n",
       "37                            Álvaro de Luna  \n",
       "38                                     Walls  \n",
       "39                            Belén Aguilera  "
      ]
     },
     "execution_count": 120,
     "metadata": {},
     "output_type": "execute_result"
    }
   ],
   "source": [
    "spain_40 = pd.DataFrame({'title':song, 'artist':artist})\n",
    "spain_40"
   ]
  },
  {
   "cell_type": "code",
   "execution_count": 121,
   "id": "bea02a74",
   "metadata": {},
   "outputs": [
    {
     "data": {
      "text/html": [
       "<div>\n",
       "<style scoped>\n",
       "    .dataframe tbody tr th:only-of-type {\n",
       "        vertical-align: middle;\n",
       "    }\n",
       "\n",
       "    .dataframe tbody tr th {\n",
       "        vertical-align: top;\n",
       "    }\n",
       "\n",
       "    .dataframe thead th {\n",
       "        text-align: right;\n",
       "    }\n",
       "</style>\n",
       "<table border=\"1\" class=\"dataframe\">\n",
       "  <thead>\n",
       "    <tr style=\"text-align: right;\">\n",
       "      <th></th>\n",
       "      <th>title</th>\n",
       "      <th>artist</th>\n",
       "    </tr>\n",
       "  </thead>\n",
       "  <tbody>\n",
       "    <tr>\n",
       "      <th>0</th>\n",
       "      <td>Las 12</td>\n",
       "      <td>Ana Mena &amp; Belinda</td>\n",
       "    </tr>\n",
       "    <tr>\n",
       "      <th>1</th>\n",
       "      <td>Despechá</td>\n",
       "      <td>Rosalía</td>\n",
       "    </tr>\n",
       "    <tr>\n",
       "      <th>2</th>\n",
       "      <td>Quevedo: Bzrp music sessions Vol. 52</td>\n",
       "      <td>Bizarrap &amp; Quevedo</td>\n",
       "    </tr>\n",
       "    <tr>\n",
       "      <th>3</th>\n",
       "      <td>Mariposas</td>\n",
       "      <td>Aitana &amp; Sangiovanni</td>\n",
       "    </tr>\n",
       "    <tr>\n",
       "      <th>4</th>\n",
       "      <td>I ain't worried</td>\n",
       "      <td>OneRepublic</td>\n",
       "    </tr>\n",
       "    <tr>\n",
       "      <th>5</th>\n",
       "      <td>Don't you worry</td>\n",
       "      <td>The Black Eyed Peas &amp; David Guetta &amp; Shakira</td>\n",
       "    </tr>\n",
       "    <tr>\n",
       "      <th>6</th>\n",
       "      <td>Hold me closer</td>\n",
       "      <td>Britney Spears &amp; Elton John</td>\n",
       "    </tr>\n",
       "    <tr>\n",
       "      <th>7</th>\n",
       "      <td>Envolver</td>\n",
       "      <td>Anitta</td>\n",
       "    </tr>\n",
       "    <tr>\n",
       "      <th>8</th>\n",
       "      <td>As it was</td>\n",
       "      <td>Harry Styles</td>\n",
       "    </tr>\n",
       "    <tr>\n",
       "      <th>9</th>\n",
       "      <td>Carretera y manta</td>\n",
       "      <td>Pablo Alborán</td>\n",
       "    </tr>\n",
       "    <tr>\n",
       "      <th>10</th>\n",
       "      <td>Dile a los demás</td>\n",
       "      <td>Dani Fernández</td>\n",
       "    </tr>\n",
       "    <tr>\n",
       "      <th>11</th>\n",
       "      <td>Quieres</td>\n",
       "      <td>Aitana &amp; Emilia &amp; PtaZeta</td>\n",
       "    </tr>\n",
       "    <tr>\n",
       "      <th>12</th>\n",
       "      <td>Hay que vivir el momento</td>\n",
       "      <td>Manuel Carrasco</td>\n",
       "    </tr>\n",
       "    <tr>\n",
       "      <th>13</th>\n",
       "      <td>I'm good (Blue)</td>\n",
       "      <td>Bebe Rexha &amp; David Guetta</td>\n",
       "    </tr>\n",
       "    <tr>\n",
       "      <th>14</th>\n",
       "      <td>Te felicito</td>\n",
       "      <td>Rauw Alejandro &amp; Shakira</td>\n",
       "    </tr>\n",
       "    <tr>\n",
       "      <th>15</th>\n",
       "      <td>Maybe you're the problem</td>\n",
       "      <td>Ava Max</td>\n",
       "    </tr>\n",
       "    <tr>\n",
       "      <th>16</th>\n",
       "      <td>Volverá (2021)</td>\n",
       "      <td>Dani Martín</td>\n",
       "    </tr>\n",
       "    <tr>\n",
       "      <th>17</th>\n",
       "      <td>Late night talking</td>\n",
       "      <td>Harry Styles</td>\n",
       "    </tr>\n",
       "    <tr>\n",
       "      <th>18</th>\n",
       "      <td>Quiero decirte</td>\n",
       "      <td>Abraham Mateo &amp; Ana Mena</td>\n",
       "    </tr>\n",
       "    <tr>\n",
       "      <th>19</th>\n",
       "      <td>Latidos</td>\n",
       "      <td>Polo Nandez &amp; Zeper</td>\n",
       "    </tr>\n",
       "    <tr>\n",
       "      <th>20</th>\n",
       "      <td>Provenza</td>\n",
       "      <td>Karol G</td>\n",
       "    </tr>\n",
       "    <tr>\n",
       "      <th>21</th>\n",
       "      <td>About damn time</td>\n",
       "      <td>Lizzo</td>\n",
       "    </tr>\n",
       "    <tr>\n",
       "      <th>22</th>\n",
       "      <td>Amapolas</td>\n",
       "      <td>Leo Rizzi</td>\n",
       "    </tr>\n",
       "    <tr>\n",
       "      <th>23</th>\n",
       "      <td>TV</td>\n",
       "      <td>Sebastián Yatra</td>\n",
       "    </tr>\n",
       "    <tr>\n",
       "      <th>24</th>\n",
       "      <td>Junio</td>\n",
       "      <td>Maluma</td>\n",
       "    </tr>\n",
       "    <tr>\n",
       "      <th>25</th>\n",
       "      <td>Infinity</td>\n",
       "      <td>Jaymes Young</td>\n",
       "    </tr>\n",
       "    <tr>\n",
       "      <th>26</th>\n",
       "      <td>Quién diría</td>\n",
       "      <td>DePol</td>\n",
       "    </tr>\n",
       "    <tr>\n",
       "      <th>27</th>\n",
       "      <td>Solo x ti</td>\n",
       "      <td>Pol Granch</td>\n",
       "    </tr>\n",
       "    <tr>\n",
       "      <th>28</th>\n",
       "      <td>El bueno acaba mal</td>\n",
       "      <td>Blas Cantó</td>\n",
       "    </tr>\n",
       "    <tr>\n",
       "      <th>29</th>\n",
       "      <td>Bonita</td>\n",
       "      <td>Samuraï</td>\n",
       "    </tr>\n",
       "    <tr>\n",
       "      <th>30</th>\n",
       "      <td>Bam bam</td>\n",
       "      <td>Camila Cabello &amp; Ed Sheeran</td>\n",
       "    </tr>\n",
       "    <tr>\n",
       "      <th>31</th>\n",
       "      <td>París</td>\n",
       "      <td>Morat &amp; Duki</td>\n",
       "    </tr>\n",
       "    <tr>\n",
       "      <th>32</th>\n",
       "      <td>Agua salada</td>\n",
       "      <td>Marc Seguí</td>\n",
       "    </tr>\n",
       "    <tr>\n",
       "      <th>33</th>\n",
       "      <td>Colorín colorado</td>\n",
       "      <td>Justin Quiles</td>\n",
       "    </tr>\n",
       "    <tr>\n",
       "      <th>34</th>\n",
       "      <td>El día menos pensado</td>\n",
       "      <td>Beret</td>\n",
       "    </tr>\n",
       "    <tr>\n",
       "      <th>35</th>\n",
       "      <td>Pegao</td>\n",
       "      <td>Camilo</td>\n",
       "    </tr>\n",
       "    <tr>\n",
       "      <th>36</th>\n",
       "      <td>SloMo</td>\n",
       "      <td>Chanel</td>\n",
       "    </tr>\n",
       "    <tr>\n",
       "      <th>37</th>\n",
       "      <td>Levantaremos al sol</td>\n",
       "      <td>Álvaro de Luna</td>\n",
       "    </tr>\n",
       "    <tr>\n",
       "      <th>38</th>\n",
       "      <td>Los niños del parque</td>\n",
       "      <td>Walls</td>\n",
       "    </tr>\n",
       "    <tr>\n",
       "      <th>39</th>\n",
       "      <td>Camaleón</td>\n",
       "      <td>Belén Aguilera</td>\n",
       "    </tr>\n",
       "  </tbody>\n",
       "</table>\n",
       "</div>"
      ],
      "text/plain": [
       "                                   title  \\\n",
       "0                                 Las 12   \n",
       "1                               Despechá   \n",
       "2   Quevedo: Bzrp music sessions Vol. 52   \n",
       "3                              Mariposas   \n",
       "4                        I ain't worried   \n",
       "5                        Don't you worry   \n",
       "6                         Hold me closer   \n",
       "7                               Envolver   \n",
       "8                              As it was   \n",
       "9                      Carretera y manta   \n",
       "10                      Dile a los demás   \n",
       "11                               Quieres   \n",
       "12              Hay que vivir el momento   \n",
       "13                       I'm good (Blue)   \n",
       "14                           Te felicito   \n",
       "15              Maybe you're the problem   \n",
       "16                        Volverá (2021)   \n",
       "17                    Late night talking   \n",
       "18                        Quiero decirte   \n",
       "19                               Latidos   \n",
       "20                              Provenza   \n",
       "21                       About damn time   \n",
       "22                              Amapolas   \n",
       "23                                    TV   \n",
       "24                                 Junio   \n",
       "25                              Infinity   \n",
       "26                           Quién diría   \n",
       "27                             Solo x ti   \n",
       "28                    El bueno acaba mal   \n",
       "29                                Bonita   \n",
       "30                               Bam bam   \n",
       "31                                 París   \n",
       "32                           Agua salada   \n",
       "33                      Colorín colorado   \n",
       "34                  El día menos pensado   \n",
       "35                                 Pegao   \n",
       "36                                 SloMo   \n",
       "37                   Levantaremos al sol   \n",
       "38                  Los niños del parque   \n",
       "39                              Camaleón   \n",
       "\n",
       "                                          artist  \n",
       "0                             Ana Mena & Belinda  \n",
       "1                                        Rosalía  \n",
       "2                             Bizarrap & Quevedo  \n",
       "3                           Aitana & Sangiovanni  \n",
       "4                                    OneRepublic  \n",
       "5   The Black Eyed Peas & David Guetta & Shakira  \n",
       "6                    Britney Spears & Elton John  \n",
       "7                                         Anitta  \n",
       "8                                   Harry Styles  \n",
       "9                                  Pablo Alborán  \n",
       "10                                Dani Fernández  \n",
       "11                     Aitana & Emilia & PtaZeta  \n",
       "12                               Manuel Carrasco  \n",
       "13                     Bebe Rexha & David Guetta  \n",
       "14                      Rauw Alejandro & Shakira  \n",
       "15                                       Ava Max  \n",
       "16                                   Dani Martín  \n",
       "17                                  Harry Styles  \n",
       "18                      Abraham Mateo & Ana Mena  \n",
       "19                           Polo Nandez & Zeper  \n",
       "20                                       Karol G  \n",
       "21                                         Lizzo  \n",
       "22                                     Leo Rizzi  \n",
       "23                               Sebastián Yatra  \n",
       "24                                        Maluma  \n",
       "25                                  Jaymes Young  \n",
       "26                                         DePol  \n",
       "27                                    Pol Granch  \n",
       "28                                    Blas Cantó  \n",
       "29                                       Samuraï  \n",
       "30                   Camila Cabello & Ed Sheeran  \n",
       "31                                  Morat & Duki  \n",
       "32                                    Marc Seguí  \n",
       "33                                 Justin Quiles  \n",
       "34                                         Beret  \n",
       "35                                        Camilo  \n",
       "36                                        Chanel  \n",
       "37                                Álvaro de Luna  \n",
       "38                                         Walls  \n",
       "39                                Belén Aguilera  "
      ]
     },
     "execution_count": 121,
     "metadata": {},
     "output_type": "execute_result"
    }
   ],
   "source": [
    "spain_40['artist'] = spain_40['artist'].str.replace(';',' & ')\n",
    "spain_40"
   ]
  },
  {
   "cell_type": "code",
   "execution_count": 122,
   "id": "e1cc3744",
   "metadata": {},
   "outputs": [
    {
     "data": {
      "text/html": [
       "<div>\n",
       "<style scoped>\n",
       "    .dataframe tbody tr th:only-of-type {\n",
       "        vertical-align: middle;\n",
       "    }\n",
       "\n",
       "    .dataframe tbody tr th {\n",
       "        vertical-align: top;\n",
       "    }\n",
       "\n",
       "    .dataframe thead th {\n",
       "        text-align: right;\n",
       "    }\n",
       "</style>\n",
       "<table border=\"1\" class=\"dataframe\">\n",
       "  <thead>\n",
       "    <tr style=\"text-align: right;\">\n",
       "      <th></th>\n",
       "      <th>title</th>\n",
       "      <th>artist</th>\n",
       "    </tr>\n",
       "  </thead>\n",
       "  <tbody>\n",
       "    <tr>\n",
       "      <th>0</th>\n",
       "      <td>Unholy</td>\n",
       "      <td>Sam Smith &amp; Kim Petras</td>\n",
       "    </tr>\n",
       "    <tr>\n",
       "      <th>1</th>\n",
       "      <td>I'm Good (Blue)</td>\n",
       "      <td>David Guetta &amp; Bebe Rexha</td>\n",
       "    </tr>\n",
       "    <tr>\n",
       "      <th>2</th>\n",
       "      <td>Thank God</td>\n",
       "      <td>Kane Brown &amp; Katelyn Brown</td>\n",
       "    </tr>\n",
       "    <tr>\n",
       "      <th>3</th>\n",
       "      <td>wait in the truck</td>\n",
       "      <td>HARDY &amp; Lainey Wilson</td>\n",
       "    </tr>\n",
       "    <tr>\n",
       "      <th>4</th>\n",
       "      <td>Everywhere</td>\n",
       "      <td>Fleetwood Mac</td>\n",
       "    </tr>\n",
       "    <tr>\n",
       "      <th>...</th>\n",
       "      <td>...</td>\n",
       "      <td>...</td>\n",
       "    </tr>\n",
       "    <tr>\n",
       "      <th>35</th>\n",
       "      <td>Pegao</td>\n",
       "      <td>Camilo</td>\n",
       "    </tr>\n",
       "    <tr>\n",
       "      <th>36</th>\n",
       "      <td>SloMo</td>\n",
       "      <td>Chanel</td>\n",
       "    </tr>\n",
       "    <tr>\n",
       "      <th>37</th>\n",
       "      <td>Levantaremos al sol</td>\n",
       "      <td>Álvaro de Luna</td>\n",
       "    </tr>\n",
       "    <tr>\n",
       "      <th>38</th>\n",
       "      <td>Los niños del parque</td>\n",
       "      <td>Walls</td>\n",
       "    </tr>\n",
       "    <tr>\n",
       "      <th>39</th>\n",
       "      <td>Camaleón</td>\n",
       "      <td>Belén Aguilera</td>\n",
       "    </tr>\n",
       "  </tbody>\n",
       "</table>\n",
       "<p>140 rows × 2 columns</p>\n",
       "</div>"
      ],
      "text/plain": [
       "                   title                      artist\n",
       "0                 Unholy      Sam Smith & Kim Petras\n",
       "1        I'm Good (Blue)   David Guetta & Bebe Rexha\n",
       "2              Thank God  Kane Brown & Katelyn Brown\n",
       "3      wait in the truck       HARDY & Lainey Wilson\n",
       "4             Everywhere               Fleetwood Mac\n",
       "..                   ...                         ...\n",
       "35                 Pegao                      Camilo\n",
       "36                 SloMo                      Chanel\n",
       "37   Levantaremos al sol              Álvaro de Luna\n",
       "38  Los niños del parque                       Walls\n",
       "39              Camaleón              Belén Aguilera\n",
       "\n",
       "[140 rows x 2 columns]"
      ]
     },
     "execution_count": 122,
     "metadata": {},
     "output_type": "execute_result"
    }
   ],
   "source": [
    "top_hits = pd.concat([top_songs,spain_40],axis=0)\n",
    "top_hits"
   ]
  },
  {
   "cell_type": "code",
   "execution_count": 123,
   "id": "edfe5ea8",
   "metadata": {},
   "outputs": [],
   "source": [
    "top_hits.to_csv('top_hits.csv', index=False)"
   ]
  }
 ],
 "metadata": {
  "kernelspec": {
   "display_name": "Python 3 (ipykernel)",
   "language": "python",
   "name": "python3"
  },
  "language_info": {
   "codemirror_mode": {
    "name": "ipython",
    "version": 3
   },
   "file_extension": ".py",
   "mimetype": "text/x-python",
   "name": "python",
   "nbconvert_exporter": "python",
   "pygments_lexer": "ipython3",
   "version": "3.9.12"
  }
 },
 "nbformat": 4,
 "nbformat_minor": 5
}
