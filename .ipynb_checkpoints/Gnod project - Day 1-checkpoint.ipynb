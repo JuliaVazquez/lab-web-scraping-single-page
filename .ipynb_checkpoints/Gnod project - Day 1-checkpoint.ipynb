{
 "cells": [
  {
   "cell_type": "markdown",
   "id": "1f66dbdd",
   "metadata": {},
   "source": [
    "# Scraping one page"
   ]
  },
  {
   "cell_type": "code",
   "execution_count": 1,
   "id": "e08d64e8",
   "metadata": {},
   "outputs": [],
   "source": [
    "from bs4 import BeautifulSoup\n",
    "import requests\n",
    "import pandas as pd"
   ]
  },
  {
   "cell_type": "markdown",
   "id": "6d2c0fdb",
   "metadata": {},
   "source": [
    "### getting the soup from the web page"
   ]
  },
  {
   "cell_type": "code",
   "execution_count": 2,
   "id": "65eda4b6",
   "metadata": {},
   "outputs": [],
   "source": [
    "url = 'https://www.popvortex.com/music/charts/top-100-songs.php'"
   ]
  },
  {
   "cell_type": "code",
   "execution_count": 3,
   "id": "41910d5a",
   "metadata": {},
   "outputs": [
    {
     "data": {
      "text/plain": [
       "200"
      ]
     },
     "execution_count": 3,
     "metadata": {},
     "output_type": "execute_result"
    }
   ],
   "source": [
    "response = requests.get(url)\n",
    "response.status_code"
   ]
  },
  {
   "cell_type": "code",
   "execution_count": 30,
   "id": "9bb1deda",
   "metadata": {},
   "outputs": [],
   "source": [
    "soup = BeautifulSoup(response.content, \"html.parser\")\n",
    "# soup"
   ]
  },
  {
   "cell_type": "code",
   "execution_count": 5,
   "id": "bfe45d47",
   "metadata": {},
   "outputs": [],
   "source": [
    "#chart-position-1 > div.chart-content.col-xs-12.col-sm-8 > p"
   ]
  },
  {
   "cell_type": "markdown",
   "id": "e7a678fb",
   "metadata": {},
   "source": [
    "### looking for the information we want (title and artists)"
   ]
  },
  {
   "cell_type": "code",
   "execution_count": 6,
   "id": "10bb67f8",
   "metadata": {},
   "outputs": [
    {
     "data": {
      "text/plain": [
       "[<p class=\"title-artist\"><cite class=\"title\">Unholy</cite><em class=\"artist\">Sam Smith &amp; Kim Petras</em></p>]"
      ]
     },
     "execution_count": 6,
     "metadata": {},
     "output_type": "execute_result"
    }
   ],
   "source": [
    "soup.select('#chart-position-1 > div.chart-content.col-xs-12.col-sm-8 > p')"
   ]
  },
  {
   "cell_type": "code",
   "execution_count": 7,
   "id": "6a222b42",
   "metadata": {},
   "outputs": [
    {
     "data": {
      "text/plain": [
       "'Unholy'"
      ]
     },
     "execution_count": 7,
     "metadata": {},
     "output_type": "execute_result"
    }
   ],
   "source": [
    "soup.select('.title')[0].get_text()"
   ]
  },
  {
   "cell_type": "code",
   "execution_count": 8,
   "id": "981faf22",
   "metadata": {},
   "outputs": [
    {
     "data": {
      "text/plain": [
       "'Sam Smith & Kim Petras'"
      ]
     },
     "execution_count": 8,
     "metadata": {},
     "output_type": "execute_result"
    }
   ],
   "source": [
    "soup.select('.artist')[0].get_text()"
   ]
  },
  {
   "cell_type": "code",
   "execution_count": 9,
   "id": "405e511a",
   "metadata": {},
   "outputs": [
    {
     "data": {
      "text/plain": [
       "99"
      ]
     },
     "execution_count": 9,
     "metadata": {},
     "output_type": "execute_result"
    }
   ],
   "source": [
    "len(soup.select('.title'))"
   ]
  },
  {
   "cell_type": "markdown",
   "id": "25b22456",
   "metadata": {},
   "source": [
    "### making 2 lists: titles and artists "
   ]
  },
  {
   "cell_type": "code",
   "execution_count": 10,
   "id": "d0fd522d",
   "metadata": {},
   "outputs": [],
   "source": [
    "title = []\n",
    "artist = []\n",
    "\n",
    "\n",
    "num_iter = len(soup.select('.title'))\n",
    "\n",
    "t_list = soup.select('.title')\n",
    "a_list = soup.select('.artist')\n",
    "\n",
    "for i in range(num_iter):\n",
    "    title.append(t_list[i].get_text())\n",
    "    artist.append(a_list[i].get_text())"
   ]
  },
  {
   "cell_type": "markdown",
   "id": "381ea08a",
   "metadata": {},
   "source": [
    "### converting the lists into a data frame"
   ]
  },
  {
   "cell_type": "code",
   "execution_count": 11,
   "id": "f3aeb3f6",
   "metadata": {},
   "outputs": [],
   "source": [
    "top_songs = pd.DataFrame({'title':title,\n",
    "                         'artist':artist})"
   ]
  },
  {
   "cell_type": "code",
   "execution_count": 12,
   "id": "4d202922",
   "metadata": {},
   "outputs": [
    {
     "data": {
      "text/html": [
       "<div>\n",
       "<style scoped>\n",
       "    .dataframe tbody tr th:only-of-type {\n",
       "        vertical-align: middle;\n",
       "    }\n",
       "\n",
       "    .dataframe tbody tr th {\n",
       "        vertical-align: top;\n",
       "    }\n",
       "\n",
       "    .dataframe thead th {\n",
       "        text-align: right;\n",
       "    }\n",
       "</style>\n",
       "<table border=\"1\" class=\"dataframe\">\n",
       "  <thead>\n",
       "    <tr style=\"text-align: right;\">\n",
       "      <th></th>\n",
       "      <th>title</th>\n",
       "      <th>artist</th>\n",
       "    </tr>\n",
       "  </thead>\n",
       "  <tbody>\n",
       "    <tr>\n",
       "      <th>0</th>\n",
       "      <td>Unholy</td>\n",
       "      <td>Sam Smith &amp; Kim Petras</td>\n",
       "    </tr>\n",
       "    <tr>\n",
       "      <th>1</th>\n",
       "      <td>Eagle (feat. KB)</td>\n",
       "      <td>Transformation Worship</td>\n",
       "    </tr>\n",
       "    <tr>\n",
       "      <th>2</th>\n",
       "      <td>Everywhere</td>\n",
       "      <td>Fleetwood Mac</td>\n",
       "    </tr>\n",
       "    <tr>\n",
       "      <th>3</th>\n",
       "      <td>I'm Good (Blue)</td>\n",
       "      <td>David Guetta &amp; Bebe Rexha</td>\n",
       "    </tr>\n",
       "    <tr>\n",
       "      <th>4</th>\n",
       "      <td>Make It With You</td>\n",
       "      <td>Bread</td>\n",
       "    </tr>\n",
       "    <tr>\n",
       "      <th>...</th>\n",
       "      <td>...</td>\n",
       "      <td>...</td>\n",
       "    </tr>\n",
       "    <tr>\n",
       "      <th>94</th>\n",
       "      <td>Perfectly Loved (feat. TobyMac)</td>\n",
       "      <td>Rachael Lampa</td>\n",
       "    </tr>\n",
       "    <tr>\n",
       "      <th>95</th>\n",
       "      <td>Surrender</td>\n",
       "      <td>Godsmack</td>\n",
       "    </tr>\n",
       "    <tr>\n",
       "      <th>96</th>\n",
       "      <td>Betty (Get Money)</td>\n",
       "      <td>Yung Gravy</td>\n",
       "    </tr>\n",
       "    <tr>\n",
       "      <th>97</th>\n",
       "      <td>Country On</td>\n",
       "      <td>Luke Bryan</td>\n",
       "    </tr>\n",
       "    <tr>\n",
       "      <th>98</th>\n",
       "      <td>Bedroom Singer</td>\n",
       "      <td>J.Fla</td>\n",
       "    </tr>\n",
       "  </tbody>\n",
       "</table>\n",
       "<p>99 rows × 2 columns</p>\n",
       "</div>"
      ],
      "text/plain": [
       "                              title                     artist\n",
       "0                            Unholy     Sam Smith & Kim Petras\n",
       "1                  Eagle (feat. KB)     Transformation Worship\n",
       "2                        Everywhere              Fleetwood Mac\n",
       "3                   I'm Good (Blue)  David Guetta & Bebe Rexha\n",
       "4                  Make It With You                      Bread\n",
       "..                              ...                        ...\n",
       "94  Perfectly Loved (feat. TobyMac)              Rachael Lampa\n",
       "95                        Surrender                   Godsmack\n",
       "96                Betty (Get Money)                 Yung Gravy\n",
       "97                       Country On                 Luke Bryan\n",
       "98                   Bedroom Singer                      J.Fla\n",
       "\n",
       "[99 rows x 2 columns]"
      ]
     },
     "execution_count": 12,
     "metadata": {},
     "output_type": "execute_result"
    }
   ],
   "source": [
    "top_songs"
   ]
  },
  {
   "cell_type": "markdown",
   "id": "7eb5cb76",
   "metadata": {},
   "source": [
    "### finding a way to get a random song from the title column values and getting the input-output"
   ]
  },
  {
   "cell_type": "code",
   "execution_count": 13,
   "id": "7ed1e41b",
   "metadata": {},
   "outputs": [],
   "source": [
    "import random"
   ]
  },
  {
   "cell_type": "code",
   "execution_count": 14,
   "id": "95bd9811",
   "metadata": {},
   "outputs": [
    {
     "name": "stdout",
     "output_type": "stream",
     "text": [
      "What's your favourite song?  Unholy\n",
      "Maybe this song will also like you! You Proof\n"
     ]
    }
   ],
   "source": [
    "song = input(\"What's your favourite song?  \")\n",
    "\n",
    "if song in top_songs['title'].values:\n",
    "    print('Maybe this song will also like you! :' + random.choice(title))\n",
    "else:\n",
    "    print(\"Sorry we don't have any suggestions\")"
   ]
  },
  {
   "cell_type": "markdown",
   "id": "e69af038",
   "metadata": {},
   "source": [
    "# Scraping multiple pages"
   ]
  },
  {
   "cell_type": "code",
   "execution_count": 15,
   "id": "d379f4ec",
   "metadata": {},
   "outputs": [],
   "source": [
    "url1 = 'https://playback.fm/charts/top-100-songs/1960'"
   ]
  },
  {
   "cell_type": "markdown",
   "id": "0e83d43b",
   "metadata": {},
   "source": [
    "### Respectful scraping:"
   ]
  },
  {
   "cell_type": "code",
   "execution_count": 16,
   "id": "d091ae2d",
   "metadata": {},
   "outputs": [],
   "source": [
    "from time import sleep\n",
    "from random import randint"
   ]
  },
  {
   "cell_type": "code",
   "execution_count": 17,
   "id": "24f2a3d7",
   "metadata": {},
   "outputs": [
    {
     "name": "stdout",
     "output_type": "stream",
     "text": [
      "Status code: 200\n",
      "I will sleep for 3.992 second/s.\n",
      "Status code: 200\n",
      "I will sleep for 3.721 second/s.\n",
      "Status code: 200\n",
      "I will sleep for 1.992 second/s.\n",
      "Status code: 200\n",
      "I will sleep for 3.522 second/s.\n",
      "Status code: 200\n",
      "I will sleep for 2.783 second/s.\n",
      "Status code: 200\n",
      "I will sleep for 3.65 second/s.\n",
      "Status code: 200\n",
      "I will sleep for 1.316 second/s.\n"
     ]
    }
   ],
   "source": [
    "iterations = range(1960,2021, 10)\n",
    "pages = []\n",
    "\n",
    "for i in iterations:\n",
    "    # assemble the url:\n",
    "    start_at= str(i)\n",
    "    url = \"https://playback.fm/charts/top-100-songs/\" + start_at\n",
    "    \n",
    "    # download html with a get request:\n",
    "#     response = requests.get(url)\n",
    "    response = requests.get(url, headers = {\"Accept-Language\": \"en-US\"})\n",
    "\n",
    "    # monitor the process by printing the status code\n",
    "    print(\"Status code: \" + str(response.status_code))\n",
    "\n",
    "    # store response into \"pages\" list\n",
    "    pages.append(response)\n",
    "\n",
    "    # respectful nap:\n",
    "    wait_time = randint(1,4000)\n",
    "    print(\"I will sleep for \" + str(wait_time/1000) + \" second/s.\")\n",
    "    sleep(wait_time/1000)"
   ]
  },
  {
   "cell_type": "markdown",
   "id": "011aea1c",
   "metadata": {},
   "source": [
    "### checking information from one page to get the titles and artists "
   ]
  },
  {
   "cell_type": "code",
   "execution_count": 29,
   "id": "b6845b8f",
   "metadata": {},
   "outputs": [],
   "source": [
    "# print(BeautifulSoup(pages[0].content, \"html.parser\").prettify())"
   ]
  },
  {
   "cell_type": "code",
   "execution_count": 19,
   "id": "fd04f89f",
   "metadata": {},
   "outputs": [],
   "source": [
    "soup1 = BeautifulSoup(pages[0].content, \"html.parser\")"
   ]
  },
  {
   "cell_type": "code",
   "execution_count": 20,
   "id": "48564834",
   "metadata": {},
   "outputs": [
    {
     "data": {
      "text/plain": [
       "'\\nAre You Lonesome Tonight?\\n'"
      ]
     },
     "execution_count": 20,
     "metadata": {},
     "output_type": "execute_result"
    }
   ],
   "source": [
    "# get the title\n",
    "soup1.select('span > a')[0].get_text()"
   ]
  },
  {
   "cell_type": "code",
   "execution_count": 21,
   "id": "ac8251e2",
   "metadata": {},
   "outputs": [
    {
     "data": {
      "text/plain": [
       "'\\nElvis Presley\\n'"
      ]
     },
     "execution_count": 21,
     "metadata": {},
     "output_type": "execute_result"
    }
   ],
   "source": [
    "# get the artist\n",
    "soup1.select('a.artist')[0].get_text()"
   ]
  },
  {
   "cell_type": "markdown",
   "id": "3096e279",
   "metadata": {},
   "source": [
    "### Getting the list of titles and the list of artists from each page"
   ]
  },
  {
   "cell_type": "code",
   "execution_count": 22,
   "id": "fc0b6ff9",
   "metadata": {},
   "outputs": [
    {
     "name": "stdout",
     "output_type": "stream",
     "text": [
      "700\n"
     ]
    }
   ],
   "source": [
    "titles = []\n",
    "\n",
    "\n",
    "for i in range(len(pages)):\n",
    "    parsed = BeautifulSoup(pages[i].content, \"html.parser\")\n",
    "#     print(parsed)\n",
    "    songs_html = parsed.select('td > span.song')\n",
    "#     print(songs_html)\n",
    "    for j in range(len(songs_html)):\n",
    "        title = songs_html[j].get_text()\n",
    "        titles.append(title)  \n",
    "\n",
    "\n",
    "print(len(titles)) \n"
   ]
  },
  {
   "cell_type": "code",
   "execution_count": 23,
   "id": "8339a876",
   "metadata": {},
   "outputs": [
    {
     "name": "stdout",
     "output_type": "stream",
     "text": [
      "700\n"
     ]
    }
   ],
   "source": [
    "artists = []\n",
    "\n",
    "\n",
    "for i in range(len(pages)):\n",
    "    parsed = BeautifulSoup(pages[i].content, \"html.parser\")\n",
    "#     print(parsed)\n",
    "    songs_html = parsed.select('td > a.artist')\n",
    "#     print(songs_html)\n",
    "    for j in range(len(songs_html)):\n",
    "#         print(songs_html[j])\n",
    "        artist = songs_html[j].get_text()\n",
    "        artists.append(artist)\n",
    "\n",
    "\n",
    "print(len(artists)) # output: 631?, no 200 (just took first 4 pages)\n"
   ]
  },
  {
   "cell_type": "markdown",
   "id": "77243650",
   "metadata": {},
   "source": [
    "### Converting the lists into data frames"
   ]
  },
  {
   "cell_type": "code",
   "execution_count": 24,
   "id": "c80f989c",
   "metadata": {},
   "outputs": [
    {
     "data": {
      "text/html": [
       "<div>\n",
       "<style scoped>\n",
       "    .dataframe tbody tr th:only-of-type {\n",
       "        vertical-align: middle;\n",
       "    }\n",
       "\n",
       "    .dataframe tbody tr th {\n",
       "        vertical-align: top;\n",
       "    }\n",
       "\n",
       "    .dataframe thead th {\n",
       "        text-align: right;\n",
       "    }\n",
       "</style>\n",
       "<table border=\"1\" class=\"dataframe\">\n",
       "  <thead>\n",
       "    <tr style=\"text-align: right;\">\n",
       "      <th></th>\n",
       "      <th>title</th>\n",
       "      <th>artist</th>\n",
       "    </tr>\n",
       "  </thead>\n",
       "  <tbody>\n",
       "    <tr>\n",
       "      <th>0</th>\n",
       "      <td>\\n\\nAre You Lonesome Tonight?\\n\\n</td>\n",
       "      <td>\\nElvis Presley\\n</td>\n",
       "    </tr>\n",
       "    <tr>\n",
       "      <th>1</th>\n",
       "      <td>\\n\\nIt's Now Or Never\\n\\n</td>\n",
       "      <td>\\nElvis Presley\\n</td>\n",
       "    </tr>\n",
       "    <tr>\n",
       "      <th>2</th>\n",
       "      <td>\\n\\nMarina\\n\\n</td>\n",
       "      <td>\\nRocco Granata\\n</td>\n",
       "    </tr>\n",
       "    <tr>\n",
       "      <th>3</th>\n",
       "      <td>\\n\\nThe Twist\\n\\n</td>\n",
       "      <td>\\nChubby Checker\\n</td>\n",
       "    </tr>\n",
       "    <tr>\n",
       "      <th>4</th>\n",
       "      <td>\\n\\nTheme From 'A Summer Place'\\n\\n</td>\n",
       "      <td>\\nPercy Faith\\n</td>\n",
       "    </tr>\n",
       "    <tr>\n",
       "      <th>...</th>\n",
       "      <td>...</td>\n",
       "      <td>...</td>\n",
       "    </tr>\n",
       "    <tr>\n",
       "      <th>695</th>\n",
       "      <td>\\n\\nKings &amp; Queens\\n\\n</td>\n",
       "      <td>\\nAva Max\\n</td>\n",
       "    </tr>\n",
       "    <tr>\n",
       "      <th>696</th>\n",
       "      <td>\\n\\nBang!\\n\\n</td>\n",
       "      <td>\\nAJR\\n</td>\n",
       "    </tr>\n",
       "    <tr>\n",
       "      <th>697</th>\n",
       "      <td>\\n\\nBandit\\n\\n</td>\n",
       "      <td>\\nJuice Wrld &amp; YoungBoy Never Broke Again\\n</td>\n",
       "    </tr>\n",
       "    <tr>\n",
       "      <th>698</th>\n",
       "      <td>\\n\\nPhysical\\n\\n</td>\n",
       "      <td>\\nDua Lipa\\n</td>\n",
       "    </tr>\n",
       "    <tr>\n",
       "      <th>699</th>\n",
       "      <td>\\n\\nDie From A Broken Heart\\n\\n</td>\n",
       "      <td>\\nMaddie &amp; Tae\\n</td>\n",
       "    </tr>\n",
       "  </tbody>\n",
       "</table>\n",
       "<p>700 rows × 2 columns</p>\n",
       "</div>"
      ],
      "text/plain": [
       "                                   title  \\\n",
       "0      \\n\\nAre You Lonesome Tonight?\\n\\n   \n",
       "1              \\n\\nIt's Now Or Never\\n\\n   \n",
       "2                         \\n\\nMarina\\n\\n   \n",
       "3                      \\n\\nThe Twist\\n\\n   \n",
       "4    \\n\\nTheme From 'A Summer Place'\\n\\n   \n",
       "..                                   ...   \n",
       "695               \\n\\nKings & Queens\\n\\n   \n",
       "696                        \\n\\nBang!\\n\\n   \n",
       "697                       \\n\\nBandit\\n\\n   \n",
       "698                     \\n\\nPhysical\\n\\n   \n",
       "699      \\n\\nDie From A Broken Heart\\n\\n   \n",
       "\n",
       "                                          artist  \n",
       "0                              \\nElvis Presley\\n  \n",
       "1                              \\nElvis Presley\\n  \n",
       "2                              \\nRocco Granata\\n  \n",
       "3                             \\nChubby Checker\\n  \n",
       "4                                \\nPercy Faith\\n  \n",
       "..                                           ...  \n",
       "695                                  \\nAva Max\\n  \n",
       "696                                      \\nAJR\\n  \n",
       "697  \\nJuice Wrld & YoungBoy Never Broke Again\\n  \n",
       "698                                 \\nDua Lipa\\n  \n",
       "699                             \\nMaddie & Tae\\n  \n",
       "\n",
       "[700 rows x 2 columns]"
      ]
     },
     "execution_count": 24,
     "metadata": {},
     "output_type": "execute_result"
    }
   ],
   "source": [
    "decades_songs = pd.DataFrame({'title':titles,\n",
    "                             'artist':artists})\n",
    "\n",
    "decades_songs"
   ]
  },
  {
   "cell_type": "markdown",
   "id": "aa8f9baa",
   "metadata": {},
   "source": [
    "### Cleaning the \\n"
   ]
  },
  {
   "cell_type": "code",
   "execution_count": 25,
   "id": "b4bcd823",
   "metadata": {},
   "outputs": [],
   "source": [
    "for col in decades_songs.columns:\n",
    "     decades_songs[col] = decades_songs[col].str.replace('\\n','')"
   ]
  },
  {
   "cell_type": "code",
   "execution_count": 26,
   "id": "6ad82df1",
   "metadata": {},
   "outputs": [
    {
     "data": {
      "text/html": [
       "<div>\n",
       "<style scoped>\n",
       "    .dataframe tbody tr th:only-of-type {\n",
       "        vertical-align: middle;\n",
       "    }\n",
       "\n",
       "    .dataframe tbody tr th {\n",
       "        vertical-align: top;\n",
       "    }\n",
       "\n",
       "    .dataframe thead th {\n",
       "        text-align: right;\n",
       "    }\n",
       "</style>\n",
       "<table border=\"1\" class=\"dataframe\">\n",
       "  <thead>\n",
       "    <tr style=\"text-align: right;\">\n",
       "      <th></th>\n",
       "      <th>title</th>\n",
       "      <th>artist</th>\n",
       "    </tr>\n",
       "  </thead>\n",
       "  <tbody>\n",
       "    <tr>\n",
       "      <th>0</th>\n",
       "      <td>Are You Lonesome Tonight?</td>\n",
       "      <td>Elvis Presley</td>\n",
       "    </tr>\n",
       "    <tr>\n",
       "      <th>1</th>\n",
       "      <td>It's Now Or Never</td>\n",
       "      <td>Elvis Presley</td>\n",
       "    </tr>\n",
       "    <tr>\n",
       "      <th>2</th>\n",
       "      <td>Marina</td>\n",
       "      <td>Rocco Granata</td>\n",
       "    </tr>\n",
       "    <tr>\n",
       "      <th>3</th>\n",
       "      <td>The Twist</td>\n",
       "      <td>Chubby Checker</td>\n",
       "    </tr>\n",
       "    <tr>\n",
       "      <th>4</th>\n",
       "      <td>Theme From 'A Summer Place'</td>\n",
       "      <td>Percy Faith</td>\n",
       "    </tr>\n",
       "    <tr>\n",
       "      <th>...</th>\n",
       "      <td>...</td>\n",
       "      <td>...</td>\n",
       "    </tr>\n",
       "    <tr>\n",
       "      <th>695</th>\n",
       "      <td>Kings &amp; Queens</td>\n",
       "      <td>Ava Max</td>\n",
       "    </tr>\n",
       "    <tr>\n",
       "      <th>696</th>\n",
       "      <td>Bang!</td>\n",
       "      <td>AJR</td>\n",
       "    </tr>\n",
       "    <tr>\n",
       "      <th>697</th>\n",
       "      <td>Bandit</td>\n",
       "      <td>Juice Wrld &amp; YoungBoy Never Broke Again</td>\n",
       "    </tr>\n",
       "    <tr>\n",
       "      <th>698</th>\n",
       "      <td>Physical</td>\n",
       "      <td>Dua Lipa</td>\n",
       "    </tr>\n",
       "    <tr>\n",
       "      <th>699</th>\n",
       "      <td>Die From A Broken Heart</td>\n",
       "      <td>Maddie &amp; Tae</td>\n",
       "    </tr>\n",
       "  </tbody>\n",
       "</table>\n",
       "<p>700 rows × 2 columns</p>\n",
       "</div>"
      ],
      "text/plain": [
       "                           title                                   artist\n",
       "0      Are You Lonesome Tonight?                            Elvis Presley\n",
       "1              It's Now Or Never                            Elvis Presley\n",
       "2                         Marina                            Rocco Granata\n",
       "3                      The Twist                           Chubby Checker\n",
       "4    Theme From 'A Summer Place'                              Percy Faith\n",
       "..                           ...                                      ...\n",
       "695               Kings & Queens                                  Ava Max\n",
       "696                        Bang!                                      AJR\n",
       "697                       Bandit  Juice Wrld & YoungBoy Never Broke Again\n",
       "698                     Physical                                 Dua Lipa\n",
       "699      Die From A Broken Heart                             Maddie & Tae\n",
       "\n",
       "[700 rows x 2 columns]"
      ]
     },
     "execution_count": 26,
     "metadata": {},
     "output_type": "execute_result"
    }
   ],
   "source": [
    "decades_songs"
   ]
  }
 ],
 "metadata": {
  "kernelspec": {
   "display_name": "Python 3 (ipykernel)",
   "language": "python",
   "name": "python3"
  },
  "language_info": {
   "codemirror_mode": {
    "name": "ipython",
    "version": 3
   },
   "file_extension": ".py",
   "mimetype": "text/x-python",
   "name": "python",
   "nbconvert_exporter": "python",
   "pygments_lexer": "ipython3",
   "version": "3.9.12"
  }
 },
 "nbformat": 4,
 "nbformat_minor": 5
}
