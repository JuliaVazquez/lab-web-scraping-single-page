{
 "cells": [
  {
   "cell_type": "markdown",
   "id": "ed9d5d82",
   "metadata": {},
   "source": [
    "37i9dQZF1DX5a39zUmS7Hn  -- 80 Rock\n",
    "37i9dQZF1DX3omIq8ziEt6  -- 150 Pop\n",
    "37i9dQZF1DXaXB8fQg7xif -- 150 electronica\n",
    "37i9dQZF1DX70TzPK5buVf -- 80 r&b\n",
    "37i9dQZF1DXbITWG1ZJKYt -- 200 jazz\n",
    "37i9dQZF1DXbSbnqxMTGx9 -- 250 reggae\n",
    "37i9dQZF1DX3LDIBRoaCDQ -- 100 punk\n",
    "37i9dQZF1DWUFmUp1ez7YB -- 90 salsa\n",
    "37i9dQZF1DWZBCPUIUs2iR -- 100 country\n",
    "37i9dQZF1DXcd2Vmhfon1w  -- 60 Rap españa\n",
    "37i9dQZF1DWVA1Gq4XHa6U  -- 50 hiphop intrernacional\n",
    "37i9dQZF1DXaxEKcoCdWHD  -- 50 exitos latino españa\n",
    "37i9dQZF1DWU4xtX4v6Z9l -- 50 80s españa\n",
    "37i9dQZF1DWXm9R2iowygp -- 50 90s españa\n",
    "37i9dQZF1DXb0AsvHMF4aM -- 50 00s españa\n",
    "37i9dQZF1DX7alvT6zKWrM -- 100 10s españa\n",
    "37i9dQZF1DX4UtSsGT1Sbe -- 150 80s\n",
    "37i9dQZF1DXbTxeAdrVG2l  -- 150 90s\n",
    "37i9dQZF1DX4o1oenSJRJd -- 150 00s\n",
    "37i9dQZF1DX5Ejj0EkURtP -- 150 10s\n",
    "37i9dQZF1DX08jcQJXDnEQ -- 150 90s metal\n",
    "37i9dQZF1DWXNFSTtym834 -- 100 00s metal\n",
    "37i9dQZF1DWXNFSTtym834 -- 150 10s metal\n",
    "37i9dQZF1DXe5W6diBL5N4 -- 398 kpop\n",
    "\n",
    "7iD6dfOqlwaD7UIDdsGCJH -- 1604 big list\n",
    "3bwpoSRTAdANJ0yR8IiVVn -- 363 big list\n",
    "1q4WsBW41XuOrN690BzKiJ -- 2191 big list\n",
    "6hbEvH2AmgMYo9Ggro3XRC  -- 796 biggest list\n",
    "7aQnfzkWQiEDHcbqRJJURt  -- 413 biggest hits\n",
    "\n",
    "https://open.spotify.com/playlist/4lTcPloX9vRUWcJ3RGZaUC\n",
    "https://open.spotify.com/playlist/5Q7JPVmkNBFbPF5QVJFLds\n",
    "\n",
    "4Dg0J0ICj9kKTGDyFu0Cv4 -- 1334 longest list\n",
    "1TdTz1c9jp0fB4s4ZRgtV3 -- 3210 longest pop/punk/emo playlist\n",
    "5C2i35IP8aVFnHaO0JSgkT -- 3545 longest list ever\n",
    "3a1p7qcoXARKSgFeTLAccI -- 2020 longest kpop list\n",
    "2ayXJ9BD6K5llX8MVXow7p -- 3745 2nd longest list\n",
    "5XxidK90HPQLnFdwyyn7hs -- 1057 longest 2022\n",
    "5tbtgaIAg9YI17pgxb0TXB -- 10000 longest noncheating list\n",
    "2UoeCzj9tnKuxImgCMY3hx -- 1040 longest worship music\n",
    "6FKDzNYZ8IW1pvYVF4zUN2 -- 10000 longest list in spotify"
   ]
  },
  {
   "cell_type": "markdown",
   "id": "a6a37361",
   "metadata": {},
   "source": [
    "song - artist - audio features  -> into dataframe"
   ]
  },
  {
   "cell_type": "code",
   "execution_count": 1,
   "id": "f9b784f0",
   "metadata": {},
   "outputs": [],
   "source": [
    "import pandas as pd\n",
    "import spotipy\n",
    "from spotipy.oauth2 import SpotifyClientCredentials\n",
    "from random import randint\n",
    "from time import sleep"
   ]
  },
  {
   "cell_type": "markdown",
   "id": "ccd5c2fc",
   "metadata": {},
   "source": [
    "### storing secrets"
   ]
  },
  {
   "cell_type": "code",
   "execution_count": 2,
   "id": "3cd59306",
   "metadata": {},
   "outputs": [],
   "source": [
    "secrets_file = open(\"secrets.txt\",\"r\")\n",
    "string = secrets_file.read()"
   ]
  },
  {
   "cell_type": "code",
   "execution_count": 3,
   "id": "94b22bb0",
   "metadata": {},
   "outputs": [],
   "source": [
    "secrets_dict={}\n",
    "for line in string.split('\\n'):\n",
    "    if len(line) > 0:\n",
    "        secrets_dict[line.split(':')[0]]=line.split(':')[1]"
   ]
  },
  {
   "cell_type": "code",
   "execution_count": 4,
   "id": "faee419c",
   "metadata": {},
   "outputs": [],
   "source": [
    "# secrets_dict"
   ]
  },
  {
   "cell_type": "markdown",
   "id": "0296381a",
   "metadata": {},
   "source": [
    "### authentication"
   ]
  },
  {
   "cell_type": "code",
   "execution_count": 5,
   "id": "30c72de8",
   "metadata": {},
   "outputs": [],
   "source": [
    "#Initialize SpotiPy with user credentials\n",
    "\n",
    "sp = spotipy.Spotify(auth_manager=SpotifyClientCredentials(client_id=secrets_dict['cid'],\n",
    "                                                           client_secret=secrets_dict['csecret']))"
   ]
  },
  {
   "cell_type": "markdown",
   "id": "ed8c05de",
   "metadata": {},
   "source": [
    "### downloading playlists"
   ]
  },
  {
   "cell_type": "code",
   "execution_count": 22,
   "id": "cbfdf4c8",
   "metadata": {},
   "outputs": [],
   "source": [
    "sp.user_playlist_tracks(\"spotify\", \"37i9dQZF1DX5a39zUmS7Hn\")"
   ]
  },
  {
   "cell_type": "code",
   "execution_count": 7,
   "id": "17d1a5a8",
   "metadata": {},
   "outputs": [],
   "source": [
    "def get_tracks(playlists):\n",
    "    for p_id in playlists:\n",
    "        if p_id == playlists[0]:\n",
    "            results = sp.user_playlist_tracks(\"spotify\",p_id)\n",
    "            tracks = results['items']\n",
    "        else:\n",
    "            results = sp.user_playlist_tracks(\"spotify\",p_id)\n",
    "            tracks = tracks + results['items']\n",
    "            while results['next']!=None:\n",
    "                results = sp.next(results)\n",
    "                tracks = tracks + results['items']   \n",
    "                sleep(randint(1,3000)/1000)   \n",
    "        sleep(randint(1,3000)/1000)\n",
    "    return tracks"
   ]
  },
  {
   "cell_type": "code",
   "execution_count": 8,
   "id": "28870e06",
   "metadata": {},
   "outputs": [],
   "source": [
    "playlists = ['37i9dQZF1DX5a39zUmS7Hn','37i9dQZF1DX3omIq8ziEt6','37i9dQZF1DXaXB8fQg7xif','37i9dQZF1DX70TzPK5buVf','37i9dQZF1DXbITWG1ZJKYt','37i9dQZF1DXbSbnqxMTGx9','37i9dQZF1DX3LDIBRoaCDQ','37i9dQZF1DWUFmUp1ez7YB','37i9dQZF1DWZBCPUIUs2iR','37i9dQZF1DXcd2Vmhfon1w','37i9dQZF1DWVA1Gq4XHa6U','37i9dQZF1DXaxEKcoCdWHD','37i9dQZF1DWU4xtX4v6Z9l','37i9dQZF1DWXm9R2iowygp','37i9dQZF1DXb0AsvHMF4aM','37i9dQZF1DX7alvT6zKWrM','37i9dQZF1DX4UtSsGT1Sbe','37i9dQZF1DXbTxeAdrVG2l','37i9dQZF1DX4o1oenSJRJd','37i9dQZF1DX5Ejj0EkURtP','37i9dQZF1DX08jcQJXDnEQ','37i9dQZF1DWXNFSTtym834','37i9dQZF1DWXNFSTtym834','37i9dQZF1DXe5W6diBL5N4','7iD6dfOqlwaD7UIDdsGCJH','3bwpoSRTAdANJ0yR8IiVVn','1q4WsBW41XuOrN690BzKiJ','6hbEvH2AmgMYo9Ggro3XRC','7aQnfzkWQiEDHcbqRJJURt','4lTcPloX9vRUWcJ3RGZaUC','5Q7JPVmkNBFbPF5QVJFLds','4Dg0J0ICj9kKTGDyFu0Cv4','1TdTz1c9jp0fB4s4ZRgtV3','5C2i35IP8aVFnHaO0JSgkT','3a1p7qcoXARKSgFeTLAccI','2ayXJ9BD6K5llX8MVXow7p','5XxidK90HPQLnFdwyyn7hs','5tbtgaIAg9YI17pgxb0TXB','2UoeCzj9tnKuxImgCMY3hx','6FKDzNYZ8IW1pvYVF4zUN2']"
   ]
  },
  {
   "cell_type": "code",
   "execution_count": 9,
   "id": "49c20e68",
   "metadata": {},
   "outputs": [
    {
     "name": "stdout",
     "output_type": "stream",
     "text": [
      "CPU times: total: 8.89 s\n",
      "Wall time: 15min 57s\n"
     ]
    }
   ],
   "source": [
    "%%time\n",
    "tracks = get_tracks(playlists)"
   ]
  },
  {
   "cell_type": "code",
   "execution_count": 10,
   "id": "f857e443",
   "metadata": {},
   "outputs": [
    {
     "data": {
      "text/plain": [
       "52445"
      ]
     },
     "execution_count": 10,
     "metadata": {},
     "output_type": "execute_result"
    }
   ],
   "source": [
    "len(tracks)"
   ]
  },
  {
   "cell_type": "markdown",
   "id": "f2ef6767",
   "metadata": {},
   "source": [
    "### checking the values I want "
   ]
  },
  {
   "cell_type": "code",
   "execution_count": 11,
   "id": "5b8d75ce",
   "metadata": {},
   "outputs": [
    {
     "data": {
      "text/plain": [
       "dict_keys(['added_at', 'added_by', 'is_local', 'primary_color', 'track', 'video_thumbnail'])"
      ]
     },
     "execution_count": 11,
     "metadata": {},
     "output_type": "execute_result"
    }
   ],
   "source": [
    "tracks[0].keys()"
   ]
  },
  {
   "cell_type": "code",
   "execution_count": 12,
   "id": "3cf676cf",
   "metadata": {},
   "outputs": [
    {
     "data": {
      "text/plain": [
       "'Ghost'"
      ]
     },
     "execution_count": 12,
     "metadata": {},
     "output_type": "execute_result"
    }
   ],
   "source": [
    "tracks[0]['track']['artists'][0]['name']"
   ]
  },
  {
   "cell_type": "code",
   "execution_count": 13,
   "id": "fb9070be",
   "metadata": {},
   "outputs": [
    {
     "data": {
      "text/plain": [
       "'Mary On A Cross'"
      ]
     },
     "execution_count": 13,
     "metadata": {},
     "output_type": "execute_result"
    }
   ],
   "source": [
    "tracks[0]['track']['name']"
   ]
  },
  {
   "cell_type": "code",
   "execution_count": 14,
   "id": "d8e24ef2",
   "metadata": {},
   "outputs": [
    {
     "data": {
      "text/plain": [
       "'spotify:track:2HZLXBOnaSRhXStMLrq9fD'"
      ]
     },
     "execution_count": 14,
     "metadata": {},
     "output_type": "execute_result"
    }
   ],
   "source": [
    "tracks[0]['track']['uri']"
   ]
  },
  {
   "cell_type": "code",
   "execution_count": 15,
   "id": "b47f8cd1",
   "metadata": {},
   "outputs": [
    {
     "data": {
      "text/plain": [
       "{'added_at': '2021-12-14T10:37:07Z',\n",
       " 'added_by': {'external_urls': {'spotify': 'https://open.spotify.com/user/hyqhi1imx8841j3fu10btqt96'},\n",
       "  'href': 'https://api.spotify.com/v1/users/hyqhi1imx8841j3fu10btqt96',\n",
       "  'id': 'hyqhi1imx8841j3fu10btqt96',\n",
       "  'type': 'user',\n",
       "  'uri': 'spotify:user:hyqhi1imx8841j3fu10btqt96'},\n",
       " 'is_local': False,\n",
       " 'primary_color': None,\n",
       " 'track': None,\n",
       " 'video_thumbnail': {'url': None}}"
      ]
     },
     "execution_count": 15,
     "metadata": {},
     "output_type": "execute_result"
    }
   ],
   "source": [
    "tracks[4926]"
   ]
  },
  {
   "cell_type": "markdown",
   "id": "e1715298",
   "metadata": {},
   "source": [
    "### defining a function to get the data frame"
   ]
  },
  {
   "cell_type": "code",
   "execution_count": 16,
   "id": "2641e354",
   "metadata": {},
   "outputs": [],
   "source": [
    "def get_df(tracks):\n",
    "    \n",
    "    artists = []\n",
    "    songs = []\n",
    "    audio_features = []\n",
    "    \n",
    "    # first I take out the name of the artist, the song, and the dictionary that contents audio features\n",
    "    for i in range(len(tracks)):\n",
    "        \n",
    "        # I have to make sure the items has values \n",
    "        if tracks[i]['track'] != None:\n",
    "            artists.append(tracks[i]['track']['artists'][0]['name'])\n",
    "            songs.append(tracks[i]['track']['name'])\n",
    "            uri = tracks[i]['track']['uri']\n",
    "            audio = sp.audio_features(uri)[0]\n",
    "            audio_features.append(audio)\n",
    "        else:\n",
    "            print(i)\n",
    "    \n",
    "    # after saving the data into 3 lists, I use them to make a new data frame with 3 columns\n",
    "    total_songs = pd.DataFrame({'song_title':songs,'artist':artists,'audio_features':audio_features})\n",
    "    \n",
    "\n",
    "    # now I have to extrat the dictionary from the column audio_features and give the columns the names of the keys\n",
    "    flattened = pd.DataFrame(dict(total_songs['audio_features'])).transpose()\n",
    "    columns = [str(col) for col in flattened.columns]\n",
    "    flattened.columns = columns\n",
    "    data = pd.concat([total_songs, flattened], axis=1)\n",
    "    data = data.drop(['audio_features'], axis=1)\n",
    "    \n",
    "    return data"
   ]
  },
  {
   "cell_type": "code",
   "execution_count": null,
   "id": "0c80072c",
   "metadata": {},
   "outputs": [],
   "source": [
    "# here I have a very large output because of the warnings but I wanted to keep it because of the info it gives and \n",
    "# how much time it spent running :) Sorry"
   ]
  },
  {
   "cell_type": "code",
   "execution_count": 17,
   "id": "949f6fbb",
   "metadata": {
    "scrolled": false
   },
   "outputs": [
    {
     "name": "stdout",
     "output_type": "stream",
     "text": [
      "4926\n"
     ]
    },
    {
     "name": "stderr",
     "output_type": "stream",
     "text": [
      "Expected id of type track but found type Ana+Geht+No spotify:local:Die+Vamummtn::Ana+Geht+No:220\n",
      "Expected id of type track but found type Pudan+im+Club spotify:local:Die+Vamummtn::Pudan+im+Club:265\n",
      "Expected id of type track but found type Big+City+Life+%28LEEX+Remix%29 spotify:local:Mattafix::Big+City+Life+%28LEEX+Remix%29:375\n",
      "Expected id of type track but found type Choices spotify:local:Money+Boy::Choices:176\n",
      "Expected id of type track but found type Shisha spotify:local:Money+Boy::Shisha:115\n",
      "Expected id of type track but found type Techno+-+Popcorn+remix+%28best+v spotify:local:::Techno+-+Popcorn+remix+%28best+v:257\n"
     ]
    },
    {
     "name": "stdout",
     "output_type": "stream",
     "text": [
      "14380\n",
      "16140\n",
      "22545\n",
      "22548\n"
     ]
    },
    {
     "name": "stderr",
     "output_type": "stream",
     "text": [
      "Expected id of type track but found type ViViD spotify:local:%EC%9D%B4%EB%8B%AC%EC%9D%98+%EC%86%8C%EB%85%80+%28%ED%9D%AC%EC%A7%84%29:HeeJin:ViViD:203\n",
      "Expected id of type track but found type JUNE+-+Waltz+%28Feat.+Gaho%29 spotify:local:::JUNE+-+Waltz+%28Feat.+Gaho%29:212\n",
      "Expected id of type track but found type So+Far+Away spotify:local:SUGA+%26+Jin+%26+Jungkook+%5BBTS%5D::So+Far+Away:323\n"
     ]
    },
    {
     "name": "stdout",
     "output_type": "stream",
     "text": [
      "26076\n",
      "26077\n",
      "26081\n",
      "26126\n",
      "26312\n"
     ]
    },
    {
     "name": "stderr",
     "output_type": "stream",
     "text": [
      "Expected id of type track but found type Running+in+the+90%27s spotify:local:::Running+in+the+90%27s:286\n",
      "Expected id of type track but found type Mondays+feat++Lilla+My+-+PANDEMONIUM spotify:local:::Mondays+feat++Lilla+My+-+PANDEMONIUM:478\n",
      "Expected id of type track but found type Logic+-+Ballin+%28ft.+Castro%29+%28Prod.+Arthur+McArthur%29 spotify:local:::Logic+-+Ballin+%28ft.+Castro%29+%28Prod.+Arthur+McArthur%29:229\n",
      "Expected id of type track but found type PINK+GUY+-+FURR spotify:local:::PINK+GUY+-+FURR:124\n",
      "Expected id of type track but found type You+Look+So+Good spotify:local:Moe+Shop::You+Look+So+Good:204\n",
      "Expected id of type track but found type Glue70+-+Casin spotify:local:::Glue70+-+Casin:106\n",
      "Expected id of type track but found type Moe+Shop+-+You+Look+So+Good+%281%29 spotify:local:::Moe+Shop+-+You+Look+So+Good+%281%29:204\n",
      "Expected id of type track but found type Tempus+Fugit+%28Original+Mix%29 spotify:local:Le+Nonsense::Tempus+Fugit+%28Original+Mix%29:248\n",
      "Expected id of type track but found type Man+Of+The+Year+%28Prod.+No+I.D.%29 spotify:local:Logic::Man+Of+The+Year+%28Prod.+No+I.D.%29:296\n",
      "Expected id of type track but found type Kool+Aid+%26+Frozen+Pizza spotify:local:Mac+Miller::Kool+Aid+%26+Frozen+Pizza:205\n",
      "Expected id of type track but found type By+the+croft spotify:local:::By+the+croft:226\n",
      "Expected id of type track but found type Killing+My+Love spotify:local:Leslie+Parrish::Killing+My+Love:299\n",
      "Expected id of type track but found type keep+on-vanilla spotify:local:::keep+on-vanilla:300\n",
      "Expected id of type track but found type Blind+Heart+%28Broiler+Remix%29 spotify:local:Cazzette::Blind+Heart+%28Broiler+Remix%29:249\n",
      "Expected id of type track but found type Fastoche+-+lets+burn+somethin%27 spotify:local:::Fastoche+-+lets+burn+somethin%27:138\n",
      "Expected id of type track but found type Running+in+the+90s+Vaporwave+%28vocal+version%29+-+sytricka spotify:local:::Running+in+the+90s+Vaporwave+%28vocal+version%29+-+sytricka:310\n",
      "Expected id of type track but found type sunday-vibes spotify:local:::sunday-vibes:193\n",
      "Expected id of type track but found type Cousin+Stizz+-+Shoutout+%28Gravez+Remix%29+4 spotify:local:::Cousin+Stizz+-+Shoutout+%28Gravez+Remix%29+4:174\n",
      "Expected id of type track but found type Flying+Nimbus+-+Genshin spotify:local:::Flying+Nimbus+-+Genshin:194\n",
      "Expected id of type track but found type Flying+Nimbus+-+Genshin+-+Copy spotify:local:::Flying+Nimbus+-+Genshin+-+Copy:194\n",
      "Expected id of type track but found type Cousin+Stizz+-+Shoutout+%28Gravez+Remix%29+4+-+Copy spotify:local:::Cousin+Stizz+-+Shoutout+%28Gravez+Remix%29+4+-+Copy:174\n",
      "Expected id of type track but found type %24uicideboy%24+-+Kill+Yourself+Part+III+%28LYRICS%29 spotify:local:::%24uicideboy%24+-+Kill+Yourself+Part+III+%28LYRICS%29:146\n",
      "Expected id of type track but found type Dominica+I+gotta+let+u+go+Dj+Tonka+Mix spotify:local:::Dominica+I+gotta+let+u+go+Dj+Tonka+Mix:218\n",
      "Expected id of type track but found type Noah+and+the+Whale+-+Life+Is+Life+-+Yuksek+Remix spotify:local:::Noah+and+the+Whale+-+Life+Is+Life+-+Yuksek+Remix:268\n",
      "Expected id of type track but found type 50%2F%2F50 spotify:local:VANTAGE::50%2F%2F50:246\n",
      "Expected id of type track but found type Cant spotify:local:Mall+Grab::Cant:374\n",
      "Expected id of type track but found type 2090697127879967 spotify:local:::2090697127879967:282\n",
      "Expected id of type track but found type D+Kay++Epsilon+feat+Stamina+-+Barcelona spotify:local:::D+Kay++Epsilon+feat+Stamina+-+Barcelona:209\n",
      "Expected id of type track but found type succducc+-+me++u spotify:local:::succducc+-+me++u:192\n",
      "Expected id of type track but found type Click+Bait+-+S3RL+feat+Gl%21tch+%28Radio+Gosha%29 spotify:local:::Click+Bait+-+S3RL+feat+Gl%21tch+%28Radio+Gosha%29:215\n",
      "Expected id of type track but found type %E3%80%90Nightcore%E3%80%91%E2%86%92+Im+Gonna+Show+You+Crazy++Lyrics spotify:local:::%E3%80%90Nightcore%E3%80%91%E2%86%92+Im+Gonna+Show+You+Crazy++Lyrics:175\n",
      "Expected id of type track but found type Nightcore+-+Pushed+Down+-+%28Lyrics%29 spotify:local:::Nightcore+-+Pushed+Down+-+%28Lyrics%29:180\n",
      "Expected id of type track but found type %E3%80%8CNightcore%E3%80%8D%E2%86%92+Mine+%28Lyrics%29+%E2%9C%97 spotify:local:::%E3%80%8CNightcore%E3%80%8D%E2%86%92+Mine+%28Lyrics%29+%E2%9C%97:201\n",
      "Expected id of type track but found type Nightcore+-+Ghosts+-+%28Lyrics%29 spotify:local:::Nightcore+-+Ghosts+-+%28Lyrics%29:184\n",
      "Expected id of type track but found type Noah+And+The+Whale-+Life+Is+Life+%28Yuksek+Remix%29 spotify:local:::Noah+And+The+Whale-+Life+Is+Life+%28Yuksek+Remix%29:268\n",
      "Expected id of type track but found type Fixers+-+Iron+deer+dream+%28Chad+Valley+remix%29 spotify:local:::Fixers+-+Iron+deer+dream+%28Chad+Valley+remix%29:312\n",
      "Expected id of type track but found type SEB+Presents+Initial+D+Fifth+Stage+Non-Stop+D+Selection+Vol.+2+%28320++kbps%29 spotify:local:::SEB+Presents+Initial+D+Fifth+Stage+Non-Stop+D+Selection+Vol.+2+%28320++kbps%29:4465\n",
      "Expected id of type track but found type INITIAL+D+SUPER+EUROBEAT+MIX+FOR+NOCTURNAL+TOFU+DELIVERY+%28320++kbps%29 spotify:local:::INITIAL+D+SUPER+EUROBEAT+MIX+FOR+NOCTURNAL+TOFU+DELIVERY+%28320++kbps%29:15261\n",
      "Expected id of type track but found type Unison+-+Translucent+%5BNCS+Release%5D+%5BMpgun.com%5D spotify:local:::Unison+-+Translucent+%5BNCS+Release%5D+%5BMpgun.com%5D:231\n",
      "Expected id of type track but found type I+got+summer+on+my+mind spotify:local:Still::I+got+summer+on+my+mind:200\n",
      "Expected id of type track but found type Sweaters spotify:local:Ivan+B::Sweaters:147\n",
      "Expected id of type track but found type %E3%80%8CNightcore%E3%80%8D%E2%86%92+All+The+Kids+Are+Depressed%E2%94%8A spotify:local:Smores+Nightcore::%E3%80%8CNightcore%E3%80%8D%E2%86%92+All+The+Kids+Are+Depressed%E2%94%8A:153\n",
      "Expected id of type track but found type Fred+V+%26+Grafix+-+Sunrise+%28Season+Mix%29+%5BForza+Horizon+4+OST%5D+%28320++kbps%29 spotify:local:::Fred+V+%26+Grafix+-+Sunrise+%28Season+Mix%29+%5BForza+Horizon+4+OST%5D+%28320++kbps%29:597\n",
      "Expected id of type track but found type Meg+%26+Dia+-+Monster+%28LUM%21X+Bootleg%29+%28320++kbps%29 spotify:local:::Meg+%26+Dia+-+Monster+%28LUM%21X+Bootleg%29+%28320++kbps%29:180\n",
      "Expected id of type track but found type Tatsuro+Yamashita+-+Marry-go-Round+%28%E3%83%A1%E3%83%AA%E3%83%BC%E3%83%BB%E3%82%B4%E3%83%BC%E3%83%BB%E3%83%A9%E3%82%A6%E3%83%B3%E3%83%89%29+%28320++kbps%29 spotify:local:::Tatsuro+Yamashita+-+Marry-go-Round+%28%E3%83%A1%E3%83%AA%E3%83%BC%E3%83%BB%E3%82%B4%E3%83%BC%E3%83%BB%E3%83%A9%E3%82%A6%E3%83%B3%E3%83%89%29+%28320++kbps%29:385\n",
      "Expected id of type track but found type Mall+Grab+-+Can%27t+%28320++kbps%29 spotify:local:::Mall+Grab+-+Can%27t+%28320++kbps%29:374\n",
      "Expected id of type track but found type DJ+Boring+-+Love%27s+A+Crime+%28edit%29+%28320++kbps%29 spotify:local:::DJ+Boring+-+Love%27s+A+Crime+%28edit%29+%28320++kbps%29:263\n",
      "Expected id of type track but found type Loods+%26+Mall+Grab+-+Love+Is+Real+%28320++kbps%29 spotify:local:::Loods+%26+Mall+Grab+-+Love+Is+Real+%28320++kbps%29:561\n",
      "Expected id of type track but found type DJ+Boring+-+I+Know+You+Want+To+%28Baltra+Remix%29+%28320++kbps%29 spotify:local:::DJ+Boring+-+I+Know+You+Want+To+%28Baltra+Remix%29+%28320++kbps%29:346\n",
      "Expected id of type track but found type Cash+Cash+-+Overtime+%28320++kbps%29 spotify:local:::Cash+Cash+-+Overtime+%28320++kbps%29:245\n",
      "Expected id of type track but found type %5BEDM%5D+Kalide+-+Life+We+Live+%28320++kbps%29 spotify:local:::%5BEDM%5D+Kalide+-+Life+We+Live+%28320++kbps%29:246\n",
      "Expected id of type track but found type Feel+Like+Bayside+Love-+hitomitoi+%28320++kbps%29 spotify:local:::Feel+Like+Bayside+Love-+hitomitoi+%28320++kbps%29:290\n",
      "Expected id of type track but found type Plastic+Love+-+Mariya+Takeuchi+%5BENG%5D+%28320++kbps%29 spotify:local:::Plastic+Love+-+Mariya+Takeuchi+%5BENG%5D+%28320++kbps%29:475\n",
      "Expected id of type track but found type Ivan+B+-+Sweaters+%28320++kbps%29 spotify:local:::Ivan+B+-+Sweaters+%28320++kbps%29:147\n",
      "Expected id of type track but found type S+U+B+W+A+Y+S+-+%E3%82%A2%E3%82%A4%E3%82%B9%E3%82%AF%E3%83%AA%E3%83%BC%E3%83%A0+%28320++kbps%29 spotify:local:::S+U+B+W+A+Y+S+-+%E3%82%A2%E3%82%A4%E3%82%B9%E3%82%AF%E3%83%AA%E3%83%BC%E3%83%A0+%28320++kbps%29:167\n"
     ]
    },
    {
     "name": "stderr",
     "output_type": "stream",
     "text": [
      "Expected id of type track but found type Moe+Shop+-+Owarini+Liveshow+Tokyo spotify:local:::Moe+Shop+-+Owarini+Liveshow+Tokyo:2782\n",
      "Expected id of type track but found type Diveo+-+Say+Goodbye spotify:local:::Diveo+-+Say+Goodbye:185\n",
      "Expected id of type track but found type Le+Nonsense+-+Tempus+Fugit spotify:local:::Le+Nonsense+-+Tempus+Fugit:247\n",
      "Expected id of type track but found type SAINT+PEPSI+-+Pineapple+Juniors+%28%E3%83%9E%E3%82%AF%E3%83%AD%E3%82%B9MACROSS+82+99+Remix%29 spotify:local:::SAINT+PEPSI+-+Pineapple+Juniors+%28%E3%83%9E%E3%82%AF%E3%83%AD%E3%82%B9MACROSS+82+99+Remix%29:171\n",
      "Expected id of type track but found type Slow+motion+sunset+-+Moe+shop spotify:local:::Slow+motion+sunset+-+Moe+shop:216\n",
      "Expected id of type track but found type Miami+Nights+1984+-+Accelerated+%281%29 spotify:local:::Miami+Nights+1984+-+Accelerated+%281%29:234\n",
      "Expected id of type track but found type y2mate.com+-+glory_days_wangan_midnight_maximum_tune_4_soundtrack_sHx6-HObIEw spotify:local:::y2mate.com+-+glory_days_wangan_midnight_maximum_tune_4_soundtrack_sHx6-HObIEw:377\n",
      "Expected id of type track but found type New+Order+vs.+Depeche+Mode+vs.+Daft+Punk+-++%28Sterbinszky+and+Coddie+Mashup%29 spotify:local:::New+Order+vs.+Depeche+Mode+vs.+Daft+Punk+-++%28Sterbinszky+and+Coddie+Mashup%29:188\n",
      "Expected id of type track but found type Music+Sounds+Better+With+You spotify:local:Stardust:Music+Sounds+Better+With+You:Music+Sounds+Better+With+You:424\n",
      "Expected id of type track but found type Where%27s+The+Fire spotify:local:Tim+Feehan:Tim+Feehan:Where%27s+The+Fire:267\n",
      "Expected id of type track but found type Dancin+-+Krono+Remix spotify:local:Aaron+Smith:Fun+Dancefloor+Spring+2015:Dancin+-+Krono+Remix:185\n",
      "Expected id of type track but found type Bulletproof spotify:local:La+Roux:NOW%2116:Bulletproof:307\n",
      "Expected id of type track but found type Cannon+Busters+-+Opening+-+3+MinuteVer.%5BLyrics+Video%5DHD spotify:local:::Cannon+Busters+-+Opening+-+3+MinuteVer.%5BLyrics+Video%5DHD:200\n",
      "Expected id of type track but found type I+spoke+to+the+devil+in+miami%2C+he+said+everything+would+be+fine spotify:local:xxxtentacion::I+spoke+to+the+devil+in+miami%2C+he+said+everything+would+be+fine:181\n",
      "Expected id of type track but found type You+don%27t+know+%5BFREE+DOWNLOAD%5D spotify:local:Le+Gang+Des+Ours::You+don%27t+know+%5BFREE+DOWNLOAD%5D:145\n",
      "Expected id of type track but found type In+My+Mind+%28Serzo+Hardstyle+Bootleg%29+%7C+HQ+Videoclip spotify:local:Dynoro+%26+Gigi+D%27Agostino::In+My+Mind+%28Serzo+Hardstyle+Bootleg%29+%7C+HQ+Videoclip:198\n",
      "Expected id of type track but found type BIGWAVE+-+Emotional+Prism+%5BFuture-Funk%5D spotify:local:Sakura+.Vibes::BIGWAVE+-+Emotional+Prism+%5BFuture-Funk%5D:260\n",
      "Expected id of type track but found type Zelda+-+Song+of+Storms+%28Deon+Custom+Remix%29 spotify:local:Trap+Nation::Zelda+-+Song+of+Storms+%28Deon+Custom+Remix%29:216\n",
      "Expected id of type track but found type Main+menu+theme spotify:local:Borderlands+3+soundtrack::Main+menu+theme:308\n",
      "Expected id of type track but found type Bellaire+-+Brasil spotify:local:Slav::Bellaire+-+Brasil:337\n",
      "Expected id of type track but found type Hush+Hush+-+Why+Can%27t+U spotify:local:Slav::Hush+Hush+-+Why+Can%27t+U:342\n",
      "Expected id of type track but found type Michael+Bibi+-+Hanging+Tree+%28Original+Mix%29 spotify:local:Roberto+Reppucci::Michael+Bibi+-+Hanging+Tree+%28Original+Mix%29:375\n",
      "Expected id of type track but found type for+the+best spotify:local:the+girl+next+door.::for+the+best:243\n",
      "Expected id of type track but found type android52+-+super+anime+groove+3d+world spotify:local:DEBOIN::android52+-+super+anime+groove+3d+world:198\n",
      "Expected id of type track but found type Deep+house+mix+chill+2020 spotify:local:::Deep+house+mix+chill+2020:3732\n",
      "Expected id of type track but found type Paradise%28see+the+light%29 spotify:local:Clubland+Classix::Paradise%28see+the+light%29:188\n",
      "Expected id of type track but found type Re-Con+-+Bang+9+%28Original+Remix%29 spotify:local:::Re-Con+-+Bang+9+%28Original+Remix%29:275\n",
      "Expected id of type track but found type Ignite+-+Re-Con spotify:local:::Ignite+-+Re-Con:237\n",
      "Expected id of type track but found type The+Box+Tops+-+The+Letter+%28Bakermat+Remix+From+Winter+Mixtape%29 spotify:local:::The+Box+Tops+-+The+Letter+%28Bakermat+Remix+From+Winter+Mixtape%29:225\n",
      "Expected id of type track but found type Kelis+-+Milkshake+%28Hartman+Remix%29 spotify:local:::Kelis+-+Milkshake+%28Hartman+Remix%29:226\n",
      "Expected id of type track but found type HYPNOTIC spotify:local:::HYPNOTIC:153\n",
      "Expected id of type track but found type dj+victor+borge+-+better+off+alone+x+unlock+it spotify:local:::dj+victor+borge+-+better+off+alone+x+unlock+it:219\n",
      "Expected id of type track but found type Rusko+-+Everyday+%28Netsky+Remix+VIP%29 spotify:local:::Rusko+-+Everyday+%28Netsky+Remix+VIP%29:250\n",
      "Expected id of type track but found type Estelle+x+Kanye+West+-+American+Boy+%28EZRA+Remix%29 spotify:local:::Estelle+x+Kanye+West+-+American+Boy+%28EZRA+Remix%29:288\n",
      "Expected id of type track but found type Race+Driver+%28ft.+Future+Otaku%29 spotify:local:::Race+Driver+%28ft.+Future+Otaku%29:238\n",
      "Expected id of type track but found type Harvey+Danger-Flagpole+Sitta spotify:local:::Harvey+Danger-Flagpole+Sitta:217\n",
      "Expected id of type track but found type %E9%BB%84%E6%98%8F%E3%81%AEBay+City spotify:local:::%E9%BB%84%E6%98%8F%E3%81%AEBay+City:250\n",
      "Expected id of type track but found type Wuki+-+Pon+De+Time+%28Wukileak%29 spotify:local:::Wuki+-+Pon+De+Time+%28Wukileak%29:173\n",
      "Expected id of type track but found type in+heat+_3 spotify:local:::in+heat+_3:116\n",
      "Expected id of type track but found type Artikque+-+Poison spotify:local:::Artikque+-+Poison:225\n",
      "Expected id of type track but found type Michael+gray+-+the+weekend+%28SLOWED+DOWN%29 spotify:local:::Michael+gray+-+the+weekend+%28SLOWED+DOWN%29:256\n",
      "Expected id of type track but found type A+Sinnermans+Sweet+Disposition spotify:local:::A+Sinnermans+Sweet+Disposition:414\n",
      "Expected id of type track but found type voices+in+my+head spotify:local:gershon::voices+in+my+head:251\n",
      "Expected id of type track but found type Superfly+%28Alex+K+Mix%29-+Vengaboys+Donk spotify:local:::Superfly+%28Alex+K+Mix%29-+Vengaboys+Donk:228\n",
      "Expected id of type track but found type Porter+Robinson+%26+Madeon+-++Shelter+%28Edlan+Bootleg%29 spotify:local:::Porter+Robinson+%26+Madeon+-++Shelter+%28Edlan+Bootleg%29:269\n",
      "Expected id of type track but found type Men+I+Trust+-+Break+For+Lovers+%28Elinov+Edit%29+%28192+kbps%29 spotify:local:::Men+I+Trust+-+Break+For+Lovers+%28Elinov+Edit%29+%28192+kbps%29:440\n",
      "Expected id of type track but found type Men+I+Trust+-+Show+Me+How+%28Kitsch+Edit%29+%28192+kbps%29 spotify:local:::Men+I+Trust+-+Show+Me+How+%28Kitsch+Edit%29+%28192+kbps%29:266\n",
      "Expected id of type track but found type Mighty+Hand spotify:local:Jon+Thurlow:Heat+of+Your+Gaze:Mighty+Hand:439\n",
      "Expected id of type track but found type All+Consuming+Fire+%28feat.+Melissa+How%29 spotify:local:Jesus+Culture:Your+Love+Never+Fails:All+Consuming+Fire+%28feat.+Melissa+How%29:365\n",
      "Expected id of type track but found type Your+Love+Never+Fails+%28feat.+Chris+Quilala%29 spotify:local:Jesus+Culture:Your+Love+Never+Fails:Your+Love+Never+Fails+%28feat.+Chris+Quilala%29:477\n"
     ]
    },
    {
     "name": "stdout",
     "output_type": "stream",
     "text": [
      "CPU times: total: 2min 17s\n",
      "Wall time: 1h 25min 32s\n"
     ]
    }
   ],
   "source": [
    "%%time\n",
    "songs_df = get_df(tracks)"
   ]
  },
  {
   "cell_type": "code",
   "execution_count": 18,
   "id": "7097c0f8",
   "metadata": {},
   "outputs": [
    {
     "data": {
      "text/plain": [
       "(52434, 20)"
      ]
     },
     "execution_count": 18,
     "metadata": {},
     "output_type": "execute_result"
    }
   ],
   "source": [
    "songs_df.shape"
   ]
  },
  {
   "cell_type": "code",
   "execution_count": 19,
   "id": "0b60ec7d",
   "metadata": {},
   "outputs": [
    {
     "data": {
      "text/plain": [
       "0        False\n",
       "1        False\n",
       "2        False\n",
       "3        False\n",
       "4        False\n",
       "         ...  \n",
       "52429    False\n",
       "52430    False\n",
       "52431    False\n",
       "52432     True\n",
       "52433     True\n",
       "Length: 52434, dtype: bool"
      ]
     },
     "execution_count": 19,
     "metadata": {},
     "output_type": "execute_result"
    }
   ],
   "source": [
    "# checking for those duplicated songs\n",
    "\n",
    "songs_df.duplicated(keep='first')"
   ]
  },
  {
   "cell_type": "code",
   "execution_count": 31,
   "id": "70da8c2e",
   "metadata": {},
   "outputs": [
    {
     "data": {
      "text/plain": [
       "(47275, 20)"
      ]
     },
     "execution_count": 31,
     "metadata": {},
     "output_type": "execute_result"
    }
   ],
   "source": [
    "# final data frame\n",
    "\n",
    "songs_df2 = songs_df[songs_df.duplicated(keep='first') == False] \n",
    "songs_df2.shape"
   ]
  },
  {
   "cell_type": "code",
   "execution_count": 32,
   "id": "172743c8",
   "metadata": {},
   "outputs": [
    {
     "data": {
      "text/html": [
       "<div>\n",
       "<style scoped>\n",
       "    .dataframe tbody tr th:only-of-type {\n",
       "        vertical-align: middle;\n",
       "    }\n",
       "\n",
       "    .dataframe tbody tr th {\n",
       "        vertical-align: top;\n",
       "    }\n",
       "\n",
       "    .dataframe thead th {\n",
       "        text-align: right;\n",
       "    }\n",
       "</style>\n",
       "<table border=\"1\" class=\"dataframe\">\n",
       "  <thead>\n",
       "    <tr style=\"text-align: right;\">\n",
       "      <th></th>\n",
       "      <th>song_title</th>\n",
       "      <th>artist</th>\n",
       "      <th>danceability</th>\n",
       "      <th>energy</th>\n",
       "      <th>key</th>\n",
       "      <th>loudness</th>\n",
       "      <th>mode</th>\n",
       "      <th>speechiness</th>\n",
       "      <th>acousticness</th>\n",
       "      <th>instrumentalness</th>\n",
       "      <th>liveness</th>\n",
       "      <th>valence</th>\n",
       "      <th>tempo</th>\n",
       "      <th>type</th>\n",
       "      <th>id</th>\n",
       "      <th>uri</th>\n",
       "      <th>track_href</th>\n",
       "      <th>analysis_url</th>\n",
       "      <th>duration_ms</th>\n",
       "      <th>time_signature</th>\n",
       "    </tr>\n",
       "  </thead>\n",
       "  <tbody>\n",
       "    <tr>\n",
       "      <th>5169</th>\n",
       "      <td>Ana Geht No</td>\n",
       "      <td>Die Vamummtn</td>\n",
       "      <td>None</td>\n",
       "      <td>None</td>\n",
       "      <td>None</td>\n",
       "      <td>None</td>\n",
       "      <td>None</td>\n",
       "      <td>None</td>\n",
       "      <td>None</td>\n",
       "      <td>None</td>\n",
       "      <td>None</td>\n",
       "      <td>None</td>\n",
       "      <td>None</td>\n",
       "      <td>None</td>\n",
       "      <td>None</td>\n",
       "      <td>None</td>\n",
       "      <td>None</td>\n",
       "      <td>None</td>\n",
       "      <td>None</td>\n",
       "      <td>None</td>\n",
       "    </tr>\n",
       "    <tr>\n",
       "      <th>5170</th>\n",
       "      <td>Pudan im Club</td>\n",
       "      <td>Die Vamummtn</td>\n",
       "      <td>None</td>\n",
       "      <td>None</td>\n",
       "      <td>None</td>\n",
       "      <td>None</td>\n",
       "      <td>None</td>\n",
       "      <td>None</td>\n",
       "      <td>None</td>\n",
       "      <td>None</td>\n",
       "      <td>None</td>\n",
       "      <td>None</td>\n",
       "      <td>None</td>\n",
       "      <td>None</td>\n",
       "      <td>None</td>\n",
       "      <td>None</td>\n",
       "      <td>None</td>\n",
       "      <td>None</td>\n",
       "      <td>None</td>\n",
       "      <td>None</td>\n",
       "    </tr>\n",
       "    <tr>\n",
       "      <th>5171</th>\n",
       "      <td>Big City Life (LEEX Remix)</td>\n",
       "      <td>Mattafix</td>\n",
       "      <td>None</td>\n",
       "      <td>None</td>\n",
       "      <td>None</td>\n",
       "      <td>None</td>\n",
       "      <td>None</td>\n",
       "      <td>None</td>\n",
       "      <td>None</td>\n",
       "      <td>None</td>\n",
       "      <td>None</td>\n",
       "      <td>None</td>\n",
       "      <td>None</td>\n",
       "      <td>None</td>\n",
       "      <td>None</td>\n",
       "      <td>None</td>\n",
       "      <td>None</td>\n",
       "      <td>None</td>\n",
       "      <td>None</td>\n",
       "      <td>None</td>\n",
       "    </tr>\n",
       "    <tr>\n",
       "      <th>5172</th>\n",
       "      <td>Choices</td>\n",
       "      <td>Money Boy</td>\n",
       "      <td>None</td>\n",
       "      <td>None</td>\n",
       "      <td>None</td>\n",
       "      <td>None</td>\n",
       "      <td>None</td>\n",
       "      <td>None</td>\n",
       "      <td>None</td>\n",
       "      <td>None</td>\n",
       "      <td>None</td>\n",
       "      <td>None</td>\n",
       "      <td>None</td>\n",
       "      <td>None</td>\n",
       "      <td>None</td>\n",
       "      <td>None</td>\n",
       "      <td>None</td>\n",
       "      <td>None</td>\n",
       "      <td>None</td>\n",
       "      <td>None</td>\n",
       "    </tr>\n",
       "    <tr>\n",
       "      <th>5173</th>\n",
       "      <td>Shisha</td>\n",
       "      <td>Money Boy</td>\n",
       "      <td>None</td>\n",
       "      <td>None</td>\n",
       "      <td>None</td>\n",
       "      <td>None</td>\n",
       "      <td>None</td>\n",
       "      <td>None</td>\n",
       "      <td>None</td>\n",
       "      <td>None</td>\n",
       "      <td>None</td>\n",
       "      <td>None</td>\n",
       "      <td>None</td>\n",
       "      <td>None</td>\n",
       "      <td>None</td>\n",
       "      <td>None</td>\n",
       "      <td>None</td>\n",
       "      <td>None</td>\n",
       "      <td>None</td>\n",
       "      <td>None</td>\n",
       "    </tr>\n",
       "    <tr>\n",
       "      <th>...</th>\n",
       "      <td>...</td>\n",
       "      <td>...</td>\n",
       "      <td>...</td>\n",
       "      <td>...</td>\n",
       "      <td>...</td>\n",
       "      <td>...</td>\n",
       "      <td>...</td>\n",
       "      <td>...</td>\n",
       "      <td>...</td>\n",
       "      <td>...</td>\n",
       "      <td>...</td>\n",
       "      <td>...</td>\n",
       "      <td>...</td>\n",
       "      <td>...</td>\n",
       "      <td>...</td>\n",
       "      <td>...</td>\n",
       "      <td>...</td>\n",
       "      <td>...</td>\n",
       "      <td>...</td>\n",
       "      <td>...</td>\n",
       "    </tr>\n",
       "    <tr>\n",
       "      <th>30156</th>\n",
       "      <td>Men I Trust - Break For Lovers (Elinov Edit) (...</td>\n",
       "      <td></td>\n",
       "      <td>None</td>\n",
       "      <td>None</td>\n",
       "      <td>None</td>\n",
       "      <td>None</td>\n",
       "      <td>None</td>\n",
       "      <td>None</td>\n",
       "      <td>None</td>\n",
       "      <td>None</td>\n",
       "      <td>None</td>\n",
       "      <td>None</td>\n",
       "      <td>None</td>\n",
       "      <td>None</td>\n",
       "      <td>None</td>\n",
       "      <td>None</td>\n",
       "      <td>None</td>\n",
       "      <td>None</td>\n",
       "      <td>None</td>\n",
       "      <td>None</td>\n",
       "    </tr>\n",
       "    <tr>\n",
       "      <th>30157</th>\n",
       "      <td>Men I Trust - Show Me How (Kitsch Edit) (192 k...</td>\n",
       "      <td></td>\n",
       "      <td>None</td>\n",
       "      <td>None</td>\n",
       "      <td>None</td>\n",
       "      <td>None</td>\n",
       "      <td>None</td>\n",
       "      <td>None</td>\n",
       "      <td>None</td>\n",
       "      <td>None</td>\n",
       "      <td>None</td>\n",
       "      <td>None</td>\n",
       "      <td>None</td>\n",
       "      <td>None</td>\n",
       "      <td>None</td>\n",
       "      <td>None</td>\n",
       "      <td>None</td>\n",
       "      <td>None</td>\n",
       "      <td>None</td>\n",
       "      <td>None</td>\n",
       "    </tr>\n",
       "    <tr>\n",
       "      <th>42001</th>\n",
       "      <td>Mighty Hand</td>\n",
       "      <td>Jon Thurlow</td>\n",
       "      <td>None</td>\n",
       "      <td>None</td>\n",
       "      <td>None</td>\n",
       "      <td>None</td>\n",
       "      <td>None</td>\n",
       "      <td>None</td>\n",
       "      <td>None</td>\n",
       "      <td>None</td>\n",
       "      <td>None</td>\n",
       "      <td>None</td>\n",
       "      <td>None</td>\n",
       "      <td>None</td>\n",
       "      <td>None</td>\n",
       "      <td>None</td>\n",
       "      <td>None</td>\n",
       "      <td>None</td>\n",
       "      <td>None</td>\n",
       "      <td>None</td>\n",
       "    </tr>\n",
       "    <tr>\n",
       "      <th>42319</th>\n",
       "      <td>All Consuming Fire (feat. Melissa How)</td>\n",
       "      <td>Jesus Culture</td>\n",
       "      <td>None</td>\n",
       "      <td>None</td>\n",
       "      <td>None</td>\n",
       "      <td>None</td>\n",
       "      <td>None</td>\n",
       "      <td>None</td>\n",
       "      <td>None</td>\n",
       "      <td>None</td>\n",
       "      <td>None</td>\n",
       "      <td>None</td>\n",
       "      <td>None</td>\n",
       "      <td>None</td>\n",
       "      <td>None</td>\n",
       "      <td>None</td>\n",
       "      <td>None</td>\n",
       "      <td>None</td>\n",
       "      <td>None</td>\n",
       "      <td>None</td>\n",
       "    </tr>\n",
       "    <tr>\n",
       "      <th>42326</th>\n",
       "      <td>Your Love Never Fails (feat. Chris Quilala)</td>\n",
       "      <td>Jesus Culture</td>\n",
       "      <td>None</td>\n",
       "      <td>None</td>\n",
       "      <td>None</td>\n",
       "      <td>None</td>\n",
       "      <td>None</td>\n",
       "      <td>None</td>\n",
       "      <td>None</td>\n",
       "      <td>None</td>\n",
       "      <td>None</td>\n",
       "      <td>None</td>\n",
       "      <td>None</td>\n",
       "      <td>None</td>\n",
       "      <td>None</td>\n",
       "      <td>None</td>\n",
       "      <td>None</td>\n",
       "      <td>None</td>\n",
       "      <td>None</td>\n",
       "      <td>None</td>\n",
       "    </tr>\n",
       "  </tbody>\n",
       "</table>\n",
       "<p>135 rows × 20 columns</p>\n",
       "</div>"
      ],
      "text/plain": [
       "                                              song_title         artist  \\\n",
       "5169                                         Ana Geht No   Die Vamummtn   \n",
       "5170                                       Pudan im Club   Die Vamummtn   \n",
       "5171                          Big City Life (LEEX Remix)       Mattafix   \n",
       "5172                                             Choices      Money Boy   \n",
       "5173                                              Shisha      Money Boy   \n",
       "...                                                  ...            ...   \n",
       "30156  Men I Trust - Break For Lovers (Elinov Edit) (...                  \n",
       "30157  Men I Trust - Show Me How (Kitsch Edit) (192 k...                  \n",
       "42001                                        Mighty Hand    Jon Thurlow   \n",
       "42319             All Consuming Fire (feat. Melissa How)  Jesus Culture   \n",
       "42326        Your Love Never Fails (feat. Chris Quilala)  Jesus Culture   \n",
       "\n",
       "      danceability energy   key loudness  mode speechiness acousticness  \\\n",
       "5169          None   None  None     None  None        None         None   \n",
       "5170          None   None  None     None  None        None         None   \n",
       "5171          None   None  None     None  None        None         None   \n",
       "5172          None   None  None     None  None        None         None   \n",
       "5173          None   None  None     None  None        None         None   \n",
       "...            ...    ...   ...      ...   ...         ...          ...   \n",
       "30156         None   None  None     None  None        None         None   \n",
       "30157         None   None  None     None  None        None         None   \n",
       "42001         None   None  None     None  None        None         None   \n",
       "42319         None   None  None     None  None        None         None   \n",
       "42326         None   None  None     None  None        None         None   \n",
       "\n",
       "      instrumentalness liveness valence tempo  type    id   uri track_href  \\\n",
       "5169              None     None    None  None  None  None  None       None   \n",
       "5170              None     None    None  None  None  None  None       None   \n",
       "5171              None     None    None  None  None  None  None       None   \n",
       "5172              None     None    None  None  None  None  None       None   \n",
       "5173              None     None    None  None  None  None  None       None   \n",
       "...                ...      ...     ...   ...   ...   ...   ...        ...   \n",
       "30156             None     None    None  None  None  None  None       None   \n",
       "30157             None     None    None  None  None  None  None       None   \n",
       "42001             None     None    None  None  None  None  None       None   \n",
       "42319             None     None    None  None  None  None  None       None   \n",
       "42326             None     None    None  None  None  None  None       None   \n",
       "\n",
       "      analysis_url duration_ms time_signature  \n",
       "5169          None        None           None  \n",
       "5170          None        None           None  \n",
       "5171          None        None           None  \n",
       "5172          None        None           None  \n",
       "5173          None        None           None  \n",
       "...            ...         ...            ...  \n",
       "30156         None        None           None  \n",
       "30157         None        None           None  \n",
       "42001         None        None           None  \n",
       "42319         None        None           None  \n",
       "42326         None        None           None  \n",
       "\n",
       "[135 rows x 20 columns]"
      ]
     },
     "execution_count": 32,
     "metadata": {},
     "output_type": "execute_result"
    }
   ],
   "source": [
    "songs_df2[songs_df2['danceability'].isna()]"
   ]
  },
  {
   "cell_type": "code",
   "execution_count": 33,
   "id": "6856ba24",
   "metadata": {},
   "outputs": [],
   "source": [
    "songs_df2 = songs_df2.dropna()"
   ]
  },
  {
   "cell_type": "code",
   "execution_count": 35,
   "id": "f59a463e",
   "metadata": {},
   "outputs": [
    {
     "data": {
      "text/plain": [
       "(47140, 20)"
      ]
     },
     "execution_count": 35,
     "metadata": {},
     "output_type": "execute_result"
    }
   ],
   "source": [
    "songs_df2.shape"
   ]
  },
  {
   "cell_type": "code",
   "execution_count": 41,
   "id": "f99a536e",
   "metadata": {},
   "outputs": [
    {
     "data": {
      "text/html": [
       "<div>\n",
       "<style scoped>\n",
       "    .dataframe tbody tr th:only-of-type {\n",
       "        vertical-align: middle;\n",
       "    }\n",
       "\n",
       "    .dataframe tbody tr th {\n",
       "        vertical-align: top;\n",
       "    }\n",
       "\n",
       "    .dataframe thead th {\n",
       "        text-align: right;\n",
       "    }\n",
       "</style>\n",
       "<table border=\"1\" class=\"dataframe\">\n",
       "  <thead>\n",
       "    <tr style=\"text-align: right;\">\n",
       "      <th></th>\n",
       "      <th>song_title</th>\n",
       "      <th>artist</th>\n",
       "      <th>danceability</th>\n",
       "      <th>energy</th>\n",
       "      <th>key</th>\n",
       "      <th>loudness</th>\n",
       "      <th>mode</th>\n",
       "      <th>speechiness</th>\n",
       "      <th>acousticness</th>\n",
       "      <th>instrumentalness</th>\n",
       "      <th>liveness</th>\n",
       "      <th>valence</th>\n",
       "      <th>tempo</th>\n",
       "      <th>type</th>\n",
       "      <th>id</th>\n",
       "      <th>uri</th>\n",
       "      <th>track_href</th>\n",
       "      <th>analysis_url</th>\n",
       "      <th>duration_ms</th>\n",
       "      <th>time_signature</th>\n",
       "    </tr>\n",
       "  </thead>\n",
       "  <tbody>\n",
       "    <tr>\n",
       "      <th>5477</th>\n",
       "      <td></td>\n",
       "      <td></td>\n",
       "      <td>0.597</td>\n",
       "      <td>0.544</td>\n",
       "      <td>1</td>\n",
       "      <td>-8.868</td>\n",
       "      <td>0</td>\n",
       "      <td>0.062</td>\n",
       "      <td>0.00192</td>\n",
       "      <td>0.0562</td>\n",
       "      <td>0.07</td>\n",
       "      <td>0.263</td>\n",
       "      <td>105.014</td>\n",
       "      <td>audio_features</td>\n",
       "      <td>4YhITuwINLCfXYB2WCXbCZ</td>\n",
       "      <td>spotify:track:4YhITuwINLCfXYB2WCXbCZ</td>\n",
       "      <td>https://api.spotify.com/v1/tracks/4YhITuwINLCf...</td>\n",
       "      <td>https://api.spotify.com/v1/audio-analysis/4YhI...</td>\n",
       "      <td>240006</td>\n",
       "      <td>4</td>\n",
       "    </tr>\n",
       "  </tbody>\n",
       "</table>\n",
       "</div>"
      ],
      "text/plain": [
       "     song_title artist danceability energy key loudness mode speechiness  \\\n",
       "5477                          0.597  0.544   1   -8.868    0       0.062   \n",
       "\n",
       "     acousticness instrumentalness liveness valence    tempo            type  \\\n",
       "5477      0.00192           0.0562     0.07   0.263  105.014  audio_features   \n",
       "\n",
       "                          id                                   uri  \\\n",
       "5477  4YhITuwINLCfXYB2WCXbCZ  spotify:track:4YhITuwINLCfXYB2WCXbCZ   \n",
       "\n",
       "                                             track_href  \\\n",
       "5477  https://api.spotify.com/v1/tracks/4YhITuwINLCf...   \n",
       "\n",
       "                                           analysis_url duration_ms  \\\n",
       "5477  https://api.spotify.com/v1/audio-analysis/4YhI...      240006   \n",
       "\n",
       "     time_signature  \n",
       "5477              4  "
      ]
     },
     "execution_count": 41,
     "metadata": {},
     "output_type": "execute_result"
    }
   ],
   "source": [
    "songs_df2[(songs_df2['danceability'] == 0.597) & (songs_df2['acousticness'] == 0.001920)]"
   ]
  },
  {
   "cell_type": "code",
   "execution_count": 42,
   "id": "abfffa70",
   "metadata": {},
   "outputs": [
    {
     "data": {
      "text/html": [
       "<div>\n",
       "<style scoped>\n",
       "    .dataframe tbody tr th:only-of-type {\n",
       "        vertical-align: middle;\n",
       "    }\n",
       "\n",
       "    .dataframe tbody tr th {\n",
       "        vertical-align: top;\n",
       "    }\n",
       "\n",
       "    .dataframe thead th {\n",
       "        text-align: right;\n",
       "    }\n",
       "</style>\n",
       "<table border=\"1\" class=\"dataframe\">\n",
       "  <thead>\n",
       "    <tr style=\"text-align: right;\">\n",
       "      <th></th>\n",
       "      <th>song_title</th>\n",
       "      <th>artist</th>\n",
       "      <th>danceability</th>\n",
       "      <th>energy</th>\n",
       "      <th>key</th>\n",
       "      <th>loudness</th>\n",
       "      <th>mode</th>\n",
       "      <th>speechiness</th>\n",
       "      <th>acousticness</th>\n",
       "      <th>instrumentalness</th>\n",
       "      <th>liveness</th>\n",
       "      <th>valence</th>\n",
       "      <th>tempo</th>\n",
       "      <th>type</th>\n",
       "      <th>id</th>\n",
       "      <th>uri</th>\n",
       "      <th>track_href</th>\n",
       "      <th>analysis_url</th>\n",
       "      <th>duration_ms</th>\n",
       "      <th>time_signature</th>\n",
       "    </tr>\n",
       "  </thead>\n",
       "  <tbody>\n",
       "    <tr>\n",
       "      <th>5477</th>\n",
       "      <td></td>\n",
       "      <td></td>\n",
       "      <td>0.597</td>\n",
       "      <td>0.544</td>\n",
       "      <td>1</td>\n",
       "      <td>-8.868</td>\n",
       "      <td>0</td>\n",
       "      <td>0.062</td>\n",
       "      <td>0.00192</td>\n",
       "      <td>0.0562</td>\n",
       "      <td>0.07</td>\n",
       "      <td>0.263</td>\n",
       "      <td>105.014</td>\n",
       "      <td>audio_features</td>\n",
       "      <td>4YhITuwINLCfXYB2WCXbCZ</td>\n",
       "      <td>spotify:track:4YhITuwINLCfXYB2WCXbCZ</td>\n",
       "      <td>https://api.spotify.com/v1/tracks/4YhITuwINLCf...</td>\n",
       "      <td>https://api.spotify.com/v1/audio-analysis/4YhI...</td>\n",
       "      <td>240006</td>\n",
       "      <td>4</td>\n",
       "    </tr>\n",
       "    <tr>\n",
       "      <th>5779</th>\n",
       "      <td></td>\n",
       "      <td></td>\n",
       "      <td>0.804</td>\n",
       "      <td>0.758</td>\n",
       "      <td>4</td>\n",
       "      <td>-4.819</td>\n",
       "      <td>1</td>\n",
       "      <td>0.0483</td>\n",
       "      <td>0.000875</td>\n",
       "      <td>0.331</td>\n",
       "      <td>0.125</td>\n",
       "      <td>0.424</td>\n",
       "      <td>127.946</td>\n",
       "      <td>audio_features</td>\n",
       "      <td>0lMrWcrVXHPEuVBuc0nRzZ</td>\n",
       "      <td>spotify:track:0lMrWcrVXHPEuVBuc0nRzZ</td>\n",
       "      <td>https://api.spotify.com/v1/tracks/0lMrWcrVXHPE...</td>\n",
       "      <td>https://api.spotify.com/v1/audio-analysis/0lMr...</td>\n",
       "      <td>230635</td>\n",
       "      <td>4</td>\n",
       "    </tr>\n",
       "    <tr>\n",
       "      <th>5937</th>\n",
       "      <td></td>\n",
       "      <td></td>\n",
       "      <td>0.678</td>\n",
       "      <td>0.659</td>\n",
       "      <td>11</td>\n",
       "      <td>-5.364</td>\n",
       "      <td>0</td>\n",
       "      <td>0.319</td>\n",
       "      <td>0.0534</td>\n",
       "      <td>0</td>\n",
       "      <td>0.553</td>\n",
       "      <td>0.191</td>\n",
       "      <td>146.153</td>\n",
       "      <td>audio_features</td>\n",
       "      <td>5cjecvX0CmC9gK0Laf5EMQ</td>\n",
       "      <td>spotify:track:5cjecvX0CmC9gK0Laf5EMQ</td>\n",
       "      <td>https://api.spotify.com/v1/tracks/5cjecvX0CmC9...</td>\n",
       "      <td>https://api.spotify.com/v1/audio-analysis/5cje...</td>\n",
       "      <td>202235</td>\n",
       "      <td>4</td>\n",
       "    </tr>\n",
       "    <tr>\n",
       "      <th>5938</th>\n",
       "      <td></td>\n",
       "      <td></td>\n",
       "      <td>0.558</td>\n",
       "      <td>0.941</td>\n",
       "      <td>11</td>\n",
       "      <td>-4.731</td>\n",
       "      <td>1</td>\n",
       "      <td>0.347</td>\n",
       "      <td>0.0401</td>\n",
       "      <td>0.000003</td>\n",
       "      <td>0.344</td>\n",
       "      <td>0.508</td>\n",
       "      <td>93.027</td>\n",
       "      <td>audio_features</td>\n",
       "      <td>3ireeOPKD5i6wN6CBp5koM</td>\n",
       "      <td>spotify:track:3ireeOPKD5i6wN6CBp5koM</td>\n",
       "      <td>https://api.spotify.com/v1/tracks/3ireeOPKD5i6...</td>\n",
       "      <td>https://api.spotify.com/v1/audio-analysis/3ire...</td>\n",
       "      <td>230409</td>\n",
       "      <td>4</td>\n",
       "    </tr>\n",
       "    <tr>\n",
       "      <th>5939</th>\n",
       "      <td></td>\n",
       "      <td></td>\n",
       "      <td>0.452</td>\n",
       "      <td>0.685</td>\n",
       "      <td>10</td>\n",
       "      <td>-7.143</td>\n",
       "      <td>0</td>\n",
       "      <td>0.336</td>\n",
       "      <td>0.121</td>\n",
       "      <td>0</td>\n",
       "      <td>0.127</td>\n",
       "      <td>0.673</td>\n",
       "      <td>85.718</td>\n",
       "      <td>audio_features</td>\n",
       "      <td>0ocIyziRJhnicqGm1u0m1X</td>\n",
       "      <td>spotify:track:0ocIyziRJhnicqGm1u0m1X</td>\n",
       "      <td>https://api.spotify.com/v1/tracks/0ocIyziRJhni...</td>\n",
       "      <td>https://api.spotify.com/v1/audio-analysis/0ocI...</td>\n",
       "      <td>270027</td>\n",
       "      <td>4</td>\n",
       "    </tr>\n",
       "    <tr>\n",
       "      <th>13300</th>\n",
       "      <td></td>\n",
       "      <td></td>\n",
       "      <td>0.637</td>\n",
       "      <td>0.447</td>\n",
       "      <td>6</td>\n",
       "      <td>-11.948</td>\n",
       "      <td>1</td>\n",
       "      <td>0.141</td>\n",
       "      <td>0.122</td>\n",
       "      <td>0.798</td>\n",
       "      <td>0.11</td>\n",
       "      <td>0.438</td>\n",
       "      <td>82.588</td>\n",
       "      <td>audio_features</td>\n",
       "      <td>7qzuwMS8wVfmoC8430eilc</td>\n",
       "      <td>spotify:track:7qzuwMS8wVfmoC8430eilc</td>\n",
       "      <td>https://api.spotify.com/v1/tracks/7qzuwMS8wVfm...</td>\n",
       "      <td>https://api.spotify.com/v1/audio-analysis/7qzu...</td>\n",
       "      <td>119157</td>\n",
       "      <td>4</td>\n",
       "    </tr>\n",
       "    <tr>\n",
       "      <th>33997</th>\n",
       "      <td></td>\n",
       "      <td></td>\n",
       "      <td>0.82</td>\n",
       "      <td>0.444</td>\n",
       "      <td>2</td>\n",
       "      <td>-5.246</td>\n",
       "      <td>1</td>\n",
       "      <td>0.0828</td>\n",
       "      <td>0.0194</td>\n",
       "      <td>0.000001</td>\n",
       "      <td>0.0399</td>\n",
       "      <td>0.334</td>\n",
       "      <td>118.929</td>\n",
       "      <td>audio_features</td>\n",
       "      <td>5k67u37WDwvVaLFKzVpKic</td>\n",
       "      <td>spotify:track:5k67u37WDwvVaLFKzVpKic</td>\n",
       "      <td>https://api.spotify.com/v1/tracks/5k67u37WDwvV...</td>\n",
       "      <td>https://api.spotify.com/v1/audio-analysis/5k67...</td>\n",
       "      <td>292347</td>\n",
       "      <td>4</td>\n",
       "    </tr>\n",
       "    <tr>\n",
       "      <th>49919</th>\n",
       "      <td></td>\n",
       "      <td></td>\n",
       "      <td>0.505</td>\n",
       "      <td>0.029</td>\n",
       "      <td>6</td>\n",
       "      <td>-22.933</td>\n",
       "      <td>1</td>\n",
       "      <td>0.041</td>\n",
       "      <td>0.989</td>\n",
       "      <td>0.895</td>\n",
       "      <td>0.0989</td>\n",
       "      <td>0.114</td>\n",
       "      <td>66.014</td>\n",
       "      <td>audio_features</td>\n",
       "      <td>2qhsUyXlhgQUfFNSR6ayuS</td>\n",
       "      <td>spotify:track:2qhsUyXlhgQUfFNSR6ayuS</td>\n",
       "      <td>https://api.spotify.com/v1/tracks/2qhsUyXlhgQU...</td>\n",
       "      <td>https://api.spotify.com/v1/audio-analysis/2qhs...</td>\n",
       "      <td>253567</td>\n",
       "      <td>4</td>\n",
       "    </tr>\n",
       "  </tbody>\n",
       "</table>\n",
       "</div>"
      ],
      "text/plain": [
       "      song_title artist danceability energy key loudness mode speechiness  \\\n",
       "5477                           0.597  0.544   1   -8.868    0       0.062   \n",
       "5779                           0.804  0.758   4   -4.819    1      0.0483   \n",
       "5937                           0.678  0.659  11   -5.364    0       0.319   \n",
       "5938                           0.558  0.941  11   -4.731    1       0.347   \n",
       "5939                           0.452  0.685  10   -7.143    0       0.336   \n",
       "13300                          0.637  0.447   6  -11.948    1       0.141   \n",
       "33997                           0.82  0.444   2   -5.246    1      0.0828   \n",
       "49919                          0.505  0.029   6  -22.933    1       0.041   \n",
       "\n",
       "      acousticness instrumentalness liveness valence    tempo            type  \\\n",
       "5477       0.00192           0.0562     0.07   0.263  105.014  audio_features   \n",
       "5779      0.000875            0.331    0.125   0.424  127.946  audio_features   \n",
       "5937        0.0534                0    0.553   0.191  146.153  audio_features   \n",
       "5938        0.0401         0.000003    0.344   0.508   93.027  audio_features   \n",
       "5939         0.121                0    0.127   0.673   85.718  audio_features   \n",
       "13300        0.122            0.798     0.11   0.438   82.588  audio_features   \n",
       "33997       0.0194         0.000001   0.0399   0.334  118.929  audio_features   \n",
       "49919        0.989            0.895   0.0989   0.114   66.014  audio_features   \n",
       "\n",
       "                           id                                   uri  \\\n",
       "5477   4YhITuwINLCfXYB2WCXbCZ  spotify:track:4YhITuwINLCfXYB2WCXbCZ   \n",
       "5779   0lMrWcrVXHPEuVBuc0nRzZ  spotify:track:0lMrWcrVXHPEuVBuc0nRzZ   \n",
       "5937   5cjecvX0CmC9gK0Laf5EMQ  spotify:track:5cjecvX0CmC9gK0Laf5EMQ   \n",
       "5938   3ireeOPKD5i6wN6CBp5koM  spotify:track:3ireeOPKD5i6wN6CBp5koM   \n",
       "5939   0ocIyziRJhnicqGm1u0m1X  spotify:track:0ocIyziRJhnicqGm1u0m1X   \n",
       "13300  7qzuwMS8wVfmoC8430eilc  spotify:track:7qzuwMS8wVfmoC8430eilc   \n",
       "33997  5k67u37WDwvVaLFKzVpKic  spotify:track:5k67u37WDwvVaLFKzVpKic   \n",
       "49919  2qhsUyXlhgQUfFNSR6ayuS  spotify:track:2qhsUyXlhgQUfFNSR6ayuS   \n",
       "\n",
       "                                              track_href  \\\n",
       "5477   https://api.spotify.com/v1/tracks/4YhITuwINLCf...   \n",
       "5779   https://api.spotify.com/v1/tracks/0lMrWcrVXHPE...   \n",
       "5937   https://api.spotify.com/v1/tracks/5cjecvX0CmC9...   \n",
       "5938   https://api.spotify.com/v1/tracks/3ireeOPKD5i6...   \n",
       "5939   https://api.spotify.com/v1/tracks/0ocIyziRJhni...   \n",
       "13300  https://api.spotify.com/v1/tracks/7qzuwMS8wVfm...   \n",
       "33997  https://api.spotify.com/v1/tracks/5k67u37WDwvV...   \n",
       "49919  https://api.spotify.com/v1/tracks/2qhsUyXlhgQU...   \n",
       "\n",
       "                                            analysis_url duration_ms  \\\n",
       "5477   https://api.spotify.com/v1/audio-analysis/4YhI...      240006   \n",
       "5779   https://api.spotify.com/v1/audio-analysis/0lMr...      230635   \n",
       "5937   https://api.spotify.com/v1/audio-analysis/5cje...      202235   \n",
       "5938   https://api.spotify.com/v1/audio-analysis/3ire...      230409   \n",
       "5939   https://api.spotify.com/v1/audio-analysis/0ocI...      270027   \n",
       "13300  https://api.spotify.com/v1/audio-analysis/7qzu...      119157   \n",
       "33997  https://api.spotify.com/v1/audio-analysis/5k67...      292347   \n",
       "49919  https://api.spotify.com/v1/audio-analysis/2qhs...      253567   \n",
       "\n",
       "      time_signature  \n",
       "5477               4  \n",
       "5779               4  \n",
       "5937               4  \n",
       "5938               4  \n",
       "5939               4  \n",
       "13300              4  \n",
       "33997              4  \n",
       "49919              4  "
      ]
     },
     "execution_count": 42,
     "metadata": {},
     "output_type": "execute_result"
    }
   ],
   "source": [
    "songs_df2[songs_df2['artist'] =='']"
   ]
  },
  {
   "cell_type": "code",
   "execution_count": 44,
   "id": "79b539fc",
   "metadata": {},
   "outputs": [
    {
     "data": {
      "text/plain": [
       "(47132, 20)"
      ]
     },
     "execution_count": 44,
     "metadata": {},
     "output_type": "execute_result"
    }
   ],
   "source": [
    "songs_df2 = songs_df2[~(songs_df2['artist'] =='')]\n",
    "songs_df2.shape"
   ]
  },
  {
   "cell_type": "code",
   "execution_count": 45,
   "id": "5507f16f",
   "metadata": {},
   "outputs": [],
   "source": [
    "songs_df2.to_csv('songs_df.csv', index=False)"
   ]
  }
 ],
 "metadata": {
  "kernelspec": {
   "display_name": "Python 3 (ipykernel)",
   "language": "python",
   "name": "python3"
  },
  "language_info": {
   "codemirror_mode": {
    "name": "ipython",
    "version": 3
   },
   "file_extension": ".py",
   "mimetype": "text/x-python",
   "name": "python",
   "nbconvert_exporter": "python",
   "pygments_lexer": "ipython3",
   "version": "3.9.12"
  }
 },
 "nbformat": 4,
 "nbformat_minor": 5
}
